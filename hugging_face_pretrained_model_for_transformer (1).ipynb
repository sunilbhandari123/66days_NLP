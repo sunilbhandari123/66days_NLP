{
  "nbformat": 4,
  "nbformat_minor": 0,
  "metadata": {
    "colab": {
      "provenance": [],
      "gpuType": "T4"
    },
    "kernelspec": {
      "name": "python3",
      "display_name": "Python 3"
    },
    "language_info": {
      "name": "python"
    },
    "accelerator": "GPU"
  },
  "cells": [
    {
      "cell_type": "code",
      "execution_count": 4,
      "metadata": {
        "id": "uEhSthEfbXIj"
      },
      "outputs": [],
      "source": [
        "! pip install transformers -q"
      ]
    },
    {
      "cell_type": "code",
      "source": [
        "from transformers import pipeline"
      ],
      "metadata": {
        "id": "3AAmc2mTbgsy"
      },
      "execution_count": 6,
      "outputs": []
    },
    {
      "cell_type": "code",
      "source": [
        "# Classification"
      ],
      "metadata": {
        "id": "96-LUsKHb7dH"
      },
      "execution_count": 7,
      "outputs": []
    },
    {
      "cell_type": "code",
      "source": [
        "from transformers import pipeline\n",
        "classifier = pipeline(\"sentiment-analysis\",device=0)\n",
        "classifier(\"Guitar color was good but its sounds seems okay\")\n",
        ""
      ],
      "metadata": {
        "colab": {
          "base_uri": "https://localhost:8080/"
        },
        "id": "Hul13aDJcdRK",
        "outputId": "54ae4d50-044e-4837-e120-409c47e05835"
      },
      "execution_count": 8,
      "outputs": [
        {
          "output_type": "stream",
          "name": "stderr",
          "text": [
            "No model was supplied, defaulted to distilbert/distilbert-base-uncased-finetuned-sst-2-english and revision af0f99b (https://huggingface.co/distilbert/distilbert-base-uncased-finetuned-sst-2-english).\n",
            "Using a pipeline without specifying a model name and revision in production is not recommended.\n"
          ]
        },
        {
          "output_type": "execute_result",
          "data": {
            "text/plain": [
              "[{'label': 'POSITIVE', 'score': 0.9996654987335205}]"
            ]
          },
          "metadata": {},
          "execution_count": 8
        }
      ]
    },
    {
      "cell_type": "code",
      "source": [
        "# specifiying which model to use"
      ],
      "metadata": {
        "id": "M4nfT3jpcvaH"
      },
      "execution_count": 9,
      "outputs": []
    },
    {
      "cell_type": "code",
      "source": [
        "from transformers import pipeline\n",
        "classifier=pipeline(\"sentiment-analysis\",model='distilbert/distilbert-base-uncased-finetuned-sst-2-english',device=0)\n",
        "classifier(\"Good giture at this price range\")\n"
      ],
      "metadata": {
        "colab": {
          "base_uri": "https://localhost:8080/"
        },
        "id": "Rc_VR7XfeJO1",
        "outputId": "447c4cbd-de80-468a-b9a0-18220d9b9dd4"
      },
      "execution_count": 16,
      "outputs": [
        {
          "output_type": "stream",
          "name": "stderr",
          "text": [
            "/usr/local/lib/python3.10/dist-packages/transformers/tokenization_utils_base.py:1601: FutureWarning: `clean_up_tokenization_spaces` was not set. It will be set to `True` by default. This behavior will be depracted in transformers v4.45, and will be then set to `False` by default. For more details check this issue: https://github.com/huggingface/transformers/issues/31884\n",
            "  warnings.warn(\n"
          ]
        },
        {
          "output_type": "execute_result",
          "data": {
            "text/plain": [
              "[{'label': 'POSITIVE', 'score': 0.9994978904724121}]"
            ]
          },
          "metadata": {},
          "execution_count": 16
        }
      ]
    },
    {
      "cell_type": "code",
      "source": [
        "# Question Answering"
      ],
      "metadata": {
        "id": "8qmuda-yfU-n"
      },
      "execution_count": 17,
      "outputs": []
    },
    {
      "cell_type": "code",
      "source": [
        "from transformers import pipeline\n",
        "question_answerer=pipeline(\"question-answering\",model='distilbert-base-cased-distilled-squad',device=0)\n",
        "question_answerer(\n",
        "    question=\"who is Sunil?\",\n",
        "    context=\"My name is Sunil and I work as a Data Scientist\",\n",
        ")"
      ],
      "metadata": {
        "colab": {
          "base_uri": "https://localhost:8080/"
        },
        "id": "CBv2vqAygDte",
        "outputId": "49add873-a880-4d54-9e18-1d41f67c3812"
      },
      "execution_count": 30,
      "outputs": [
        {
          "output_type": "execute_result",
          "data": {
            "text/plain": [
              "{'score': 0.5302391648292542,\n",
              " 'start': 33,\n",
              " 'end': 47,\n",
              " 'answer': 'Data Scientist'}"
            ]
          },
          "metadata": {},
          "execution_count": 30
        }
      ]
    },
    {
      "cell_type": "code",
      "source": [
        "# NER task"
      ],
      "metadata": {
        "id": "tiHlGs0HgvP2"
      },
      "execution_count": 31,
      "outputs": []
    },
    {
      "cell_type": "code",
      "source": [
        "from transformers import pipeline\n",
        "ner=pipeline(\"ner\",aggregation_strategy='simple',device=0)\n",
        "ner(\"Sunil is the CEO of Bhandari solutions\")"
      ],
      "metadata": {
        "colab": {
          "base_uri": "https://localhost:8080/"
        },
        "id": "dbpiqEeYhT_M",
        "outputId": "2edf4fee-24da-4a0f-d988-a805438cbde6"
      },
      "execution_count": 35,
      "outputs": [
        {
          "output_type": "stream",
          "name": "stderr",
          "text": [
            "No model was supplied, defaulted to dbmdz/bert-large-cased-finetuned-conll03-english and revision f2482bf (https://huggingface.co/dbmdz/bert-large-cased-finetuned-conll03-english).\n",
            "Using a pipeline without specifying a model name and revision in production is not recommended.\n",
            "Some weights of the model checkpoint at dbmdz/bert-large-cased-finetuned-conll03-english were not used when initializing BertForTokenClassification: ['bert.pooler.dense.bias', 'bert.pooler.dense.weight']\n",
            "- This IS expected if you are initializing BertForTokenClassification from the checkpoint of a model trained on another task or with another architecture (e.g. initializing a BertForSequenceClassification model from a BertForPreTraining model).\n",
            "- This IS NOT expected if you are initializing BertForTokenClassification from the checkpoint of a model that you expect to be exactly identical (initializing a BertForSequenceClassification model from a BertForSequenceClassification model).\n"
          ]
        },
        {
          "output_type": "execute_result",
          "data": {
            "text/plain": [
              "[{'entity_group': 'PER',\n",
              "  'score': 0.99192345,\n",
              "  'word': 'Sunil',\n",
              "  'start': 0,\n",
              "  'end': 5},\n",
              " {'entity_group': 'ORG',\n",
              "  'score': 0.96804976,\n",
              "  'word': 'Bhandari',\n",
              "  'start': 20,\n",
              "  'end': 28}]"
            ]
          },
          "metadata": {},
          "execution_count": 35
        }
      ]
    },
    {
      "cell_type": "code",
      "source": [
        "# Summarization"
      ],
      "metadata": {
        "id": "77f2HiFOi35_"
      },
      "execution_count": 36,
      "outputs": []
    },
    {
      "cell_type": "code",
      "source": [
        "from transformers import pipeline\n",
        "summarizer=pipeline(\"summarization\",device=0)\n",
        "text=\"\"\"Founded in 1902 as Madrid Football Club, the club have traditionally worn a white home kit.\n",
        " The honorific title real is Spanish for \"royal\" and was given by King Alfonso XIII in 1920, as well as\n",
        " the crown being added to the club crest. Real Madrid have played their home matches in the 85,000-capacity[8]\n",
        " Santiago Bernabéu Stadium in Madrid since 1947. Unlike most European football clubs, Real Madrid's members (socios)\n",
        " have owned and operated the club throughout its history. Its anthem is the \"Hala Madrid y nada más\".[9] The club is one\n",
        "of the most widely supported in the world, is the most followed football club on social media,[10][11] and was estimated to\n",
        "be worth $6.6 billion in 2024, making it the world's most valuable football club.[12]\n",
        " In 2024, Madrid became the first football club to make €1 billion ($1.1bn) in revenue.[13]\"\"\"\n",
        "summarizer(text,max_length=25,min_length=12)"
      ],
      "metadata": {
        "colab": {
          "base_uri": "https://localhost:8080/"
        },
        "id": "W-N72sp2jY2O",
        "outputId": "11da16df-8bac-4a66-9770-e0a2ab330857"
      },
      "execution_count": 40,
      "outputs": [
        {
          "output_type": "stream",
          "name": "stderr",
          "text": [
            "No model was supplied, defaulted to sshleifer/distilbart-cnn-12-6 and revision a4f8f3e (https://huggingface.co/sshleifer/distilbart-cnn-12-6).\n",
            "Using a pipeline without specifying a model name and revision in production is not recommended.\n"
          ]
        },
        {
          "output_type": "execute_result",
          "data": {
            "text/plain": [
              "[{'summary_text': ' Real Madrid were founded in 1902 as Madrid Football Club . The honorific title real is Spanish for \"royal'}]"
            ]
          },
          "metadata": {},
          "execution_count": 40
        }
      ]
    },
    {
      "cell_type": "code",
      "source": [
        "#Text Generation"
      ],
      "metadata": {
        "id": "2n_RL8O1kObR"
      },
      "execution_count": 41,
      "outputs": []
    },
    {
      "cell_type": "code",
      "source": [
        "from transformers import pipeline\n",
        "\n",
        "generator = pipeline(\"text-generation\",device=0)\n",
        "generator(\"I am learning NLP now i am implenting hugging face for\")"
      ],
      "metadata": {
        "colab": {
          "base_uri": "https://localhost:8080/"
        },
        "id": "h4wsspzClAC5",
        "outputId": "a53295c0-3eb6-4b2c-e2c5-bfbbe32218ed"
      },
      "execution_count": 49,
      "outputs": [
        {
          "output_type": "stream",
          "name": "stderr",
          "text": [
            "No model was supplied, defaulted to openai-community/gpt2 and revision 6c0e608 (https://huggingface.co/openai-community/gpt2).\n",
            "Using a pipeline without specifying a model name and revision in production is not recommended.\n",
            "Setting `pad_token_id` to `eos_token_id`:50256 for open-end generation.\n"
          ]
        },
        {
          "output_type": "execute_result",
          "data": {
            "text/plain": [
              "[{'generated_text': 'I am learning NLP now i am implenting hugging face for this great thing that they have taught me about the brain. They have taught me nothing is impossible and I am starting to think about not being able to resist it, but instead just thinking'}]"
            ]
          },
          "metadata": {},
          "execution_count": 49
        }
      ]
    },
    {
      "cell_type": "code",
      "source": [],
      "metadata": {
        "id": "j5TyBAK4lYjU"
      },
      "execution_count": null,
      "outputs": []
    }
  ]
}