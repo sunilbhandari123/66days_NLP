{
 "cells": [
  {
   "cell_type": "markdown",
   "id": "c9311f73",
   "metadata": {},
   "source": [
    "# Rule Base Spacy"
   ]
  },
  {
   "cell_type": "code",
   "execution_count": 1,
   "id": "596bb3cb",
   "metadata": {},
   "outputs": [],
   "source": [
    "# how to use a spacy Entity"
   ]
  },
  {
   "cell_type": "code",
   "execution_count": 5,
   "id": "b5df2214",
   "metadata": {},
   "outputs": [],
   "source": [
    "import spacy\n",
    "nlp=spacy.load(\"en_core_web_sm\")\n",
    "text=\"West Chestertenfieldville was referenced in Mr.Deeds\"\n",
    "doc=nlp(text)"
   ]
  },
  {
   "cell_type": "code",
   "execution_count": 6,
   "id": "adb05239",
   "metadata": {},
   "outputs": [],
   "source": [
    "# Rule based approch"
   ]
  },
  {
   "cell_type": "code",
   "execution_count": 7,
   "id": "50071f91",
   "metadata": {},
   "outputs": [
    {
     "name": "stdout",
     "output_type": "stream",
     "text": [
      "West Chestertenfieldville GPE\n",
      "Deeds PERSON\n"
     ]
    }
   ],
   "source": [
    "for ent in doc.ents:\n",
    "    print(ent.text,ent.label_)"
   ]
  },
  {
   "cell_type": "code",
   "execution_count": 8,
   "id": "98f3481f",
   "metadata": {},
   "outputs": [],
   "source": [
    "# making ruler to correct entity\n",
    "ruler=nlp.add_pipe(\"entity_ruler\",before=\"ner\")\n",
    "patterns=[\n",
    "    {\n",
    "        \"label\":\"flim\",\"pattern\":\"Mr.Deeds\"\n",
    "    }\n",
    "]"
   ]
  },
  {
   "cell_type": "code",
   "execution_count": 11,
   "id": "c522efa4",
   "metadata": {},
   "outputs": [],
   "source": [
    "ruler.add_patterns(patterns)\n",
    "doc=nlp(text)"
   ]
  },
  {
   "cell_type": "code",
   "execution_count": 12,
   "id": "cfd02c6e",
   "metadata": {},
   "outputs": [
    {
     "name": "stdout",
     "output_type": "stream",
     "text": [
      "West Chestertenfieldville GPE\n",
      "Mr.Deeds flim\n"
     ]
    }
   ],
   "source": [
    "for ent in doc.ents:\n",
    "    print (ent.text,ent.label_)"
   ]
  },
  {
   "cell_type": "code",
   "execution_count": null,
   "id": "9422cd0a",
   "metadata": {},
   "outputs": [],
   "source": []
  }
 ],
 "metadata": {
  "kernelspec": {
   "display_name": "Python 3 (ipykernel)",
   "language": "python",
   "name": "python3"
  },
  "language_info": {
   "codemirror_mode": {
    "name": "ipython",
    "version": 3
   },
   "file_extension": ".py",
   "mimetype": "text/x-python",
   "name": "python",
   "nbconvert_exporter": "python",
   "pygments_lexer": "ipython3",
   "version": "3.9.13"
  }
 },
 "nbformat": 4,
 "nbformat_minor": 5
}
