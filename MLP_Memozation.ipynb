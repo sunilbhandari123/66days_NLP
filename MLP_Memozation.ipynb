{
  "nbformat": 4,
  "nbformat_minor": 0,
  "metadata": {
    "colab": {
      "provenance": []
    },
    "kernelspec": {
      "name": "python3",
      "display_name": "Python 3"
    },
    "language_info": {
      "name": "python"
    }
  },
  "cells": [
    {
      "cell_type": "code",
      "execution_count": 3,
      "metadata": {
        "id": "yO7yPCoVTXJ6"
      },
      "outputs": [],
      "source": [
        "# with out memozation\n",
        "\n",
        "def a(n):\n",
        "  if n==1 or n==0:\n",
        "    return 1\n",
        "  else:\n",
        "    return a(n-1)+a(n-2)"
      ]
    },
    {
      "cell_type": "code",
      "source": [
        "import time"
      ],
      "metadata": {
        "id": "ZBNeIBn6T_QC"
      },
      "execution_count": 4,
      "outputs": []
    },
    {
      "cell_type": "code",
      "source": [
        "start= time.time()\n",
        "a(40)\n",
        "print(time.time()-start)"
      ],
      "metadata": {
        "colab": {
          "base_uri": "https://localhost:8080/"
        },
        "id": "2NwGU2gtTxkG",
        "outputId": "02b9ef0e-eab2-4f43-9341-6b02233ec1ca"
      },
      "execution_count": 5,
      "outputs": [
        {
          "output_type": "stream",
          "name": "stdout",
          "text": [
            "49.59742188453674\n"
          ]
        }
      ]
    },
    {
      "cell_type": "code",
      "source": [
        "# with memoization\n",
        "def a(n,d):\n",
        "  if n in d:\n",
        "    return d[n]\n",
        "  else:\n",
        "    d[n]=a(n-1,d)+a(n-2,d)\n",
        "    return d[n]"
      ],
      "metadata": {
        "id": "5lQMB7o2T-GW"
      },
      "execution_count": 6,
      "outputs": []
    },
    {
      "cell_type": "code",
      "source": [
        "start=time.time()\n",
        "d={0:1,1:1}\n",
        "a(40,d)\n",
        "print(time.time()-start)"
      ],
      "metadata": {
        "colab": {
          "base_uri": "https://localhost:8080/"
        },
        "id": "6tdBD76bUgW3",
        "outputId": "1ed302df-781d-41fc-dc3d-4adbefb2a995"
      },
      "execution_count": 7,
      "outputs": [
        {
          "output_type": "stream",
          "name": "stdout",
          "text": [
            "0.0002009868621826172\n"
          ]
        }
      ]
    },
    {
      "cell_type": "code",
      "source": [],
      "metadata": {
        "id": "Naqb5Mr1Unla"
      },
      "execution_count": null,
      "outputs": []
    }
  ]
}