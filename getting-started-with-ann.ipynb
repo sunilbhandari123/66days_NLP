{
 "cells": [
  {
   "cell_type": "code",
   "execution_count": 1,
   "id": "956a01f8",
   "metadata": {
    "_cell_guid": "b1076dfc-b9ad-4769-8c92-a6c4dae69d19",
    "_uuid": "8f2839f25d086af736a60e9eeb907d3b93b6e0e5",
    "execution": {
     "iopub.execute_input": "2024-08-11T12:19:09.671533Z",
     "iopub.status.busy": "2024-08-11T12:19:09.671100Z",
     "iopub.status.idle": "2024-08-11T12:19:10.664170Z",
     "shell.execute_reply": "2024-08-11T12:19:10.663006Z"
    },
    "papermill": {
     "duration": 1.007093,
     "end_time": "2024-08-11T12:19:10.666859",
     "exception": false,
     "start_time": "2024-08-11T12:19:09.659766",
     "status": "completed"
    },
    "tags": []
   },
   "outputs": [
    {
     "name": "stdout",
     "output_type": "stream",
     "text": [
      "/kaggle/input/credit-card-customer-churn-prediction/Churn_Modelling.csv\n"
     ]
    }
   ],
   "source": [
    "# This Python 3 environment comes with many helpful analytics libraries installed\n",
    "# It is defined by the kaggle/python Docker image: https://github.com/kaggle/docker-python\n",
    "# For example, here's several helpful packages to load\n",
    "\n",
    "import numpy as np # linear algebra\n",
    "import pandas as pd\n",
    "import matplotlib.pyplot as plt# data processing, CSV file I/O (e.g. pd.read_csv)\n",
    "\n",
    "# Input data files are available in the read-only \"../input/\" directory\n",
    "# For example, running this (by clicking run or pressing Shift+Enter) will list all files under the input directory\n",
    "\n",
    "import os\n",
    "for dirname, _, filenames in os.walk('/kaggle/input'):\n",
    "    for filename in filenames:\n",
    "        print(os.path.join(dirname, filename))\n",
    "\n",
    "# You can write up to 20GB to the current directory (/kaggle/working/) that gets preserved as output when you create a version using \"Save & Run All\" \n",
    "# You can also write temporary files to /kaggle/temp/, but they won't be saved outside of the current session"
   ]
  },
  {
   "cell_type": "code",
   "execution_count": 2,
   "id": "441be2bf",
   "metadata": {
    "execution": {
     "iopub.execute_input": "2024-08-11T12:19:10.687312Z",
     "iopub.status.busy": "2024-08-11T12:19:10.686536Z",
     "iopub.status.idle": "2024-08-11T12:19:10.732408Z",
     "shell.execute_reply": "2024-08-11T12:19:10.731415Z"
    },
    "papermill": {
     "duration": 0.058625,
     "end_time": "2024-08-11T12:19:10.734980",
     "exception": false,
     "start_time": "2024-08-11T12:19:10.676355",
     "status": "completed"
    },
    "tags": []
   },
   "outputs": [],
   "source": [
    "df=pd.read_csv(\"/kaggle/input/credit-card-customer-churn-prediction/Churn_Modelling.csv\")"
   ]
  },
  {
   "cell_type": "code",
   "execution_count": 3,
   "id": "166ebcef",
   "metadata": {
    "execution": {
     "iopub.execute_input": "2024-08-11T12:19:10.755180Z",
     "iopub.status.busy": "2024-08-11T12:19:10.754532Z",
     "iopub.status.idle": "2024-08-11T12:19:10.781196Z",
     "shell.execute_reply": "2024-08-11T12:19:10.779955Z"
    },
    "papermill": {
     "duration": 0.039443,
     "end_time": "2024-08-11T12:19:10.783557",
     "exception": false,
     "start_time": "2024-08-11T12:19:10.744114",
     "status": "completed"
    },
    "tags": []
   },
   "outputs": [
    {
     "data": {
      "text/html": [
       "<div>\n",
       "<style scoped>\n",
       "    .dataframe tbody tr th:only-of-type {\n",
       "        vertical-align: middle;\n",
       "    }\n",
       "\n",
       "    .dataframe tbody tr th {\n",
       "        vertical-align: top;\n",
       "    }\n",
       "\n",
       "    .dataframe thead th {\n",
       "        text-align: right;\n",
       "    }\n",
       "</style>\n",
       "<table border=\"1\" class=\"dataframe\">\n",
       "  <thead>\n",
       "    <tr style=\"text-align: right;\">\n",
       "      <th></th>\n",
       "      <th>RowNumber</th>\n",
       "      <th>CustomerId</th>\n",
       "      <th>Surname</th>\n",
       "      <th>CreditScore</th>\n",
       "      <th>Geography</th>\n",
       "      <th>Gender</th>\n",
       "      <th>Age</th>\n",
       "      <th>Tenure</th>\n",
       "      <th>Balance</th>\n",
       "      <th>NumOfProducts</th>\n",
       "      <th>HasCrCard</th>\n",
       "      <th>IsActiveMember</th>\n",
       "      <th>EstimatedSalary</th>\n",
       "      <th>Exited</th>\n",
       "    </tr>\n",
       "  </thead>\n",
       "  <tbody>\n",
       "    <tr>\n",
       "      <th>0</th>\n",
       "      <td>1</td>\n",
       "      <td>15634602</td>\n",
       "      <td>Hargrave</td>\n",
       "      <td>619</td>\n",
       "      <td>France</td>\n",
       "      <td>Female</td>\n",
       "      <td>42</td>\n",
       "      <td>2</td>\n",
       "      <td>0.00</td>\n",
       "      <td>1</td>\n",
       "      <td>1</td>\n",
       "      <td>1</td>\n",
       "      <td>101348.88</td>\n",
       "      <td>1</td>\n",
       "    </tr>\n",
       "    <tr>\n",
       "      <th>1</th>\n",
       "      <td>2</td>\n",
       "      <td>15647311</td>\n",
       "      <td>Hill</td>\n",
       "      <td>608</td>\n",
       "      <td>Spain</td>\n",
       "      <td>Female</td>\n",
       "      <td>41</td>\n",
       "      <td>1</td>\n",
       "      <td>83807.86</td>\n",
       "      <td>1</td>\n",
       "      <td>0</td>\n",
       "      <td>1</td>\n",
       "      <td>112542.58</td>\n",
       "      <td>0</td>\n",
       "    </tr>\n",
       "    <tr>\n",
       "      <th>2</th>\n",
       "      <td>3</td>\n",
       "      <td>15619304</td>\n",
       "      <td>Onio</td>\n",
       "      <td>502</td>\n",
       "      <td>France</td>\n",
       "      <td>Female</td>\n",
       "      <td>42</td>\n",
       "      <td>8</td>\n",
       "      <td>159660.80</td>\n",
       "      <td>3</td>\n",
       "      <td>1</td>\n",
       "      <td>0</td>\n",
       "      <td>113931.57</td>\n",
       "      <td>1</td>\n",
       "    </tr>\n",
       "    <tr>\n",
       "      <th>3</th>\n",
       "      <td>4</td>\n",
       "      <td>15701354</td>\n",
       "      <td>Boni</td>\n",
       "      <td>699</td>\n",
       "      <td>France</td>\n",
       "      <td>Female</td>\n",
       "      <td>39</td>\n",
       "      <td>1</td>\n",
       "      <td>0.00</td>\n",
       "      <td>2</td>\n",
       "      <td>0</td>\n",
       "      <td>0</td>\n",
       "      <td>93826.63</td>\n",
       "      <td>0</td>\n",
       "    </tr>\n",
       "    <tr>\n",
       "      <th>4</th>\n",
       "      <td>5</td>\n",
       "      <td>15737888</td>\n",
       "      <td>Mitchell</td>\n",
       "      <td>850</td>\n",
       "      <td>Spain</td>\n",
       "      <td>Female</td>\n",
       "      <td>43</td>\n",
       "      <td>2</td>\n",
       "      <td>125510.82</td>\n",
       "      <td>1</td>\n",
       "      <td>1</td>\n",
       "      <td>1</td>\n",
       "      <td>79084.10</td>\n",
       "      <td>0</td>\n",
       "    </tr>\n",
       "  </tbody>\n",
       "</table>\n",
       "</div>"
      ],
      "text/plain": [
       "   RowNumber  CustomerId   Surname  CreditScore Geography  Gender  Age  \\\n",
       "0          1    15634602  Hargrave          619    France  Female   42   \n",
       "1          2    15647311      Hill          608     Spain  Female   41   \n",
       "2          3    15619304      Onio          502    France  Female   42   \n",
       "3          4    15701354      Boni          699    France  Female   39   \n",
       "4          5    15737888  Mitchell          850     Spain  Female   43   \n",
       "\n",
       "   Tenure    Balance  NumOfProducts  HasCrCard  IsActiveMember  \\\n",
       "0       2       0.00              1          1               1   \n",
       "1       1   83807.86              1          0               1   \n",
       "2       8  159660.80              3          1               0   \n",
       "3       1       0.00              2          0               0   \n",
       "4       2  125510.82              1          1               1   \n",
       "\n",
       "   EstimatedSalary  Exited  \n",
       "0        101348.88       1  \n",
       "1        112542.58       0  \n",
       "2        113931.57       1  \n",
       "3         93826.63       0  \n",
       "4         79084.10       0  "
      ]
     },
     "execution_count": 3,
     "metadata": {},
     "output_type": "execute_result"
    }
   ],
   "source": [
    "df.head()"
   ]
  },
  {
   "cell_type": "code",
   "execution_count": 4,
   "id": "6af18d20",
   "metadata": {
    "execution": {
     "iopub.execute_input": "2024-08-11T12:19:10.804828Z",
     "iopub.status.busy": "2024-08-11T12:19:10.803697Z",
     "iopub.status.idle": "2024-08-11T12:19:10.810638Z",
     "shell.execute_reply": "2024-08-11T12:19:10.809679Z"
    },
    "papermill": {
     "duration": 0.019796,
     "end_time": "2024-08-11T12:19:10.812773",
     "exception": false,
     "start_time": "2024-08-11T12:19:10.792977",
     "status": "completed"
    },
    "tags": []
   },
   "outputs": [
    {
     "data": {
      "text/plain": [
       "(10000, 14)"
      ]
     },
     "execution_count": 4,
     "metadata": {},
     "output_type": "execute_result"
    }
   ],
   "source": [
    "df.shape"
   ]
  },
  {
   "cell_type": "markdown",
   "id": "456b4ec5",
   "metadata": {
    "papermill": {
     "duration": 0.009163,
     "end_time": "2024-08-11T12:19:10.832345",
     "exception": false,
     "start_time": "2024-08-11T12:19:10.823182",
     "status": "completed"
    },
    "tags": []
   },
   "source": [
    "# Basic data anlaysis( which will be essential to train our model)"
   ]
  },
  {
   "cell_type": "code",
   "execution_count": 5,
   "id": "0385389e",
   "metadata": {
    "execution": {
     "iopub.execute_input": "2024-08-11T12:19:10.853277Z",
     "iopub.status.busy": "2024-08-11T12:19:10.852855Z",
     "iopub.status.idle": "2024-08-11T12:19:10.880092Z",
     "shell.execute_reply": "2024-08-11T12:19:10.878729Z"
    },
    "papermill": {
     "duration": 0.040868,
     "end_time": "2024-08-11T12:19:10.882602",
     "exception": false,
     "start_time": "2024-08-11T12:19:10.841734",
     "status": "completed"
    },
    "tags": []
   },
   "outputs": [
    {
     "name": "stdout",
     "output_type": "stream",
     "text": [
      "<class 'pandas.core.frame.DataFrame'>\n",
      "RangeIndex: 10000 entries, 0 to 9999\n",
      "Data columns (total 14 columns):\n",
      " #   Column           Non-Null Count  Dtype  \n",
      "---  ------           --------------  -----  \n",
      " 0   RowNumber        10000 non-null  int64  \n",
      " 1   CustomerId       10000 non-null  int64  \n",
      " 2   Surname          10000 non-null  object \n",
      " 3   CreditScore      10000 non-null  int64  \n",
      " 4   Geography        10000 non-null  object \n",
      " 5   Gender           10000 non-null  object \n",
      " 6   Age              10000 non-null  int64  \n",
      " 7   Tenure           10000 non-null  int64  \n",
      " 8   Balance          10000 non-null  float64\n",
      " 9   NumOfProducts    10000 non-null  int64  \n",
      " 10  HasCrCard        10000 non-null  int64  \n",
      " 11  IsActiveMember   10000 non-null  int64  \n",
      " 12  EstimatedSalary  10000 non-null  float64\n",
      " 13  Exited           10000 non-null  int64  \n",
      "dtypes: float64(2), int64(9), object(3)\n",
      "memory usage: 1.1+ MB\n"
     ]
    }
   ],
   "source": [
    "df.info()"
   ]
  },
  {
   "cell_type": "code",
   "execution_count": 6,
   "id": "4e398817",
   "metadata": {
    "execution": {
     "iopub.execute_input": "2024-08-11T12:19:10.903382Z",
     "iopub.status.busy": "2024-08-11T12:19:10.903003Z",
     "iopub.status.idle": "2024-08-11T12:19:10.913535Z",
     "shell.execute_reply": "2024-08-11T12:19:10.912496Z"
    },
    "papermill": {
     "duration": 0.023998,
     "end_time": "2024-08-11T12:19:10.916202",
     "exception": false,
     "start_time": "2024-08-11T12:19:10.892204",
     "status": "completed"
    },
    "tags": []
   },
   "outputs": [
    {
     "data": {
      "text/plain": [
       "RowNumber          0\n",
       "CustomerId         0\n",
       "Surname            0\n",
       "CreditScore        0\n",
       "Geography          0\n",
       "Gender             0\n",
       "Age                0\n",
       "Tenure             0\n",
       "Balance            0\n",
       "NumOfProducts      0\n",
       "HasCrCard          0\n",
       "IsActiveMember     0\n",
       "EstimatedSalary    0\n",
       "Exited             0\n",
       "dtype: int64"
      ]
     },
     "execution_count": 6,
     "metadata": {},
     "output_type": "execute_result"
    }
   ],
   "source": [
    "df.isnull().sum()"
   ]
  },
  {
   "cell_type": "code",
   "execution_count": 7,
   "id": "504466c1",
   "metadata": {
    "execution": {
     "iopub.execute_input": "2024-08-11T12:19:10.937520Z",
     "iopub.status.busy": "2024-08-11T12:19:10.937134Z",
     "iopub.status.idle": "2024-08-11T12:19:10.952220Z",
     "shell.execute_reply": "2024-08-11T12:19:10.951065Z"
    },
    "papermill": {
     "duration": 0.028551,
     "end_time": "2024-08-11T12:19:10.954641",
     "exception": false,
     "start_time": "2024-08-11T12:19:10.926090",
     "status": "completed"
    },
    "tags": []
   },
   "outputs": [
    {
     "data": {
      "text/plain": [
       "0"
      ]
     },
     "execution_count": 7,
     "metadata": {},
     "output_type": "execute_result"
    }
   ],
   "source": [
    "df.duplicated().sum()"
   ]
  },
  {
   "cell_type": "code",
   "execution_count": 8,
   "id": "b8a7cccf",
   "metadata": {
    "execution": {
     "iopub.execute_input": "2024-08-11T12:19:10.975837Z",
     "iopub.status.busy": "2024-08-11T12:19:10.975481Z",
     "iopub.status.idle": "2024-08-11T12:19:10.985066Z",
     "shell.execute_reply": "2024-08-11T12:19:10.984149Z"
    },
    "papermill": {
     "duration": 0.022856,
     "end_time": "2024-08-11T12:19:10.987271",
     "exception": false,
     "start_time": "2024-08-11T12:19:10.964415",
     "status": "completed"
    },
    "tags": []
   },
   "outputs": [],
   "source": [
    "df.drop(columns=['RowNumber','CustomerId','Surname'],inplace=True)"
   ]
  },
  {
   "cell_type": "code",
   "execution_count": 9,
   "id": "7902d3f4",
   "metadata": {
    "execution": {
     "iopub.execute_input": "2024-08-11T12:19:11.009158Z",
     "iopub.status.busy": "2024-08-11T12:19:11.008443Z",
     "iopub.status.idle": "2024-08-11T12:19:11.023033Z",
     "shell.execute_reply": "2024-08-11T12:19:11.021973Z"
    },
    "papermill": {
     "duration": 0.027941,
     "end_time": "2024-08-11T12:19:11.025234",
     "exception": false,
     "start_time": "2024-08-11T12:19:10.997293",
     "status": "completed"
    },
    "tags": []
   },
   "outputs": [
    {
     "data": {
      "text/html": [
       "<div>\n",
       "<style scoped>\n",
       "    .dataframe tbody tr th:only-of-type {\n",
       "        vertical-align: middle;\n",
       "    }\n",
       "\n",
       "    .dataframe tbody tr th {\n",
       "        vertical-align: top;\n",
       "    }\n",
       "\n",
       "    .dataframe thead th {\n",
       "        text-align: right;\n",
       "    }\n",
       "</style>\n",
       "<table border=\"1\" class=\"dataframe\">\n",
       "  <thead>\n",
       "    <tr style=\"text-align: right;\">\n",
       "      <th></th>\n",
       "      <th>CreditScore</th>\n",
       "      <th>Geography</th>\n",
       "      <th>Gender</th>\n",
       "      <th>Age</th>\n",
       "      <th>Tenure</th>\n",
       "      <th>Balance</th>\n",
       "      <th>NumOfProducts</th>\n",
       "      <th>HasCrCard</th>\n",
       "      <th>IsActiveMember</th>\n",
       "      <th>EstimatedSalary</th>\n",
       "      <th>Exited</th>\n",
       "    </tr>\n",
       "  </thead>\n",
       "  <tbody>\n",
       "    <tr>\n",
       "      <th>0</th>\n",
       "      <td>619</td>\n",
       "      <td>France</td>\n",
       "      <td>Female</td>\n",
       "      <td>42</td>\n",
       "      <td>2</td>\n",
       "      <td>0.00</td>\n",
       "      <td>1</td>\n",
       "      <td>1</td>\n",
       "      <td>1</td>\n",
       "      <td>101348.88</td>\n",
       "      <td>1</td>\n",
       "    </tr>\n",
       "    <tr>\n",
       "      <th>1</th>\n",
       "      <td>608</td>\n",
       "      <td>Spain</td>\n",
       "      <td>Female</td>\n",
       "      <td>41</td>\n",
       "      <td>1</td>\n",
       "      <td>83807.86</td>\n",
       "      <td>1</td>\n",
       "      <td>0</td>\n",
       "      <td>1</td>\n",
       "      <td>112542.58</td>\n",
       "      <td>0</td>\n",
       "    </tr>\n",
       "    <tr>\n",
       "      <th>2</th>\n",
       "      <td>502</td>\n",
       "      <td>France</td>\n",
       "      <td>Female</td>\n",
       "      <td>42</td>\n",
       "      <td>8</td>\n",
       "      <td>159660.80</td>\n",
       "      <td>3</td>\n",
       "      <td>1</td>\n",
       "      <td>0</td>\n",
       "      <td>113931.57</td>\n",
       "      <td>1</td>\n",
       "    </tr>\n",
       "    <tr>\n",
       "      <th>3</th>\n",
       "      <td>699</td>\n",
       "      <td>France</td>\n",
       "      <td>Female</td>\n",
       "      <td>39</td>\n",
       "      <td>1</td>\n",
       "      <td>0.00</td>\n",
       "      <td>2</td>\n",
       "      <td>0</td>\n",
       "      <td>0</td>\n",
       "      <td>93826.63</td>\n",
       "      <td>0</td>\n",
       "    </tr>\n",
       "    <tr>\n",
       "      <th>4</th>\n",
       "      <td>850</td>\n",
       "      <td>Spain</td>\n",
       "      <td>Female</td>\n",
       "      <td>43</td>\n",
       "      <td>2</td>\n",
       "      <td>125510.82</td>\n",
       "      <td>1</td>\n",
       "      <td>1</td>\n",
       "      <td>1</td>\n",
       "      <td>79084.10</td>\n",
       "      <td>0</td>\n",
       "    </tr>\n",
       "  </tbody>\n",
       "</table>\n",
       "</div>"
      ],
      "text/plain": [
       "   CreditScore Geography  Gender  Age  Tenure    Balance  NumOfProducts  \\\n",
       "0          619    France  Female   42       2       0.00              1   \n",
       "1          608     Spain  Female   41       1   83807.86              1   \n",
       "2          502    France  Female   42       8  159660.80              3   \n",
       "3          699    France  Female   39       1       0.00              2   \n",
       "4          850     Spain  Female   43       2  125510.82              1   \n",
       "\n",
       "   HasCrCard  IsActiveMember  EstimatedSalary  Exited  \n",
       "0          1               1        101348.88       1  \n",
       "1          0               1        112542.58       0  \n",
       "2          1               0        113931.57       1  \n",
       "3          0               0         93826.63       0  \n",
       "4          1               1         79084.10       0  "
      ]
     },
     "execution_count": 9,
     "metadata": {},
     "output_type": "execute_result"
    }
   ],
   "source": [
    "df.head()"
   ]
  },
  {
   "cell_type": "code",
   "execution_count": 10,
   "id": "2b764dee",
   "metadata": {
    "execution": {
     "iopub.execute_input": "2024-08-11T12:19:11.046894Z",
     "iopub.status.busy": "2024-08-11T12:19:11.046534Z",
     "iopub.status.idle": "2024-08-11T12:19:11.062467Z",
     "shell.execute_reply": "2024-08-11T12:19:11.061398Z"
    },
    "papermill": {
     "duration": 0.029599,
     "end_time": "2024-08-11T12:19:11.064829",
     "exception": false,
     "start_time": "2024-08-11T12:19:11.035230",
     "status": "completed"
    },
    "tags": []
   },
   "outputs": [
    {
     "data": {
      "text/plain": [
       "Exited\n",
       "0    7963\n",
       "1    2037\n",
       "Name: count, dtype: int64"
      ]
     },
     "execution_count": 10,
     "metadata": {},
     "output_type": "execute_result"
    }
   ],
   "source": [
    "df['Exited'].value_counts()"
   ]
  },
  {
   "cell_type": "code",
   "execution_count": 11,
   "id": "4906a0f3",
   "metadata": {
    "execution": {
     "iopub.execute_input": "2024-08-11T12:19:11.087631Z",
     "iopub.status.busy": "2024-08-11T12:19:11.087276Z",
     "iopub.status.idle": "2024-08-11T12:19:11.096464Z",
     "shell.execute_reply": "2024-08-11T12:19:11.095344Z"
    },
    "papermill": {
     "duration": 0.023209,
     "end_time": "2024-08-11T12:19:11.098746",
     "exception": false,
     "start_time": "2024-08-11T12:19:11.075537",
     "status": "completed"
    },
    "tags": []
   },
   "outputs": [
    {
     "data": {
      "text/plain": [
       "Geography\n",
       "France     5014\n",
       "Germany    2509\n",
       "Spain      2477\n",
       "Name: count, dtype: int64"
      ]
     },
     "execution_count": 11,
     "metadata": {},
     "output_type": "execute_result"
    }
   ],
   "source": [
    "df[\"Geography\"].value_counts()"
   ]
  },
  {
   "cell_type": "code",
   "execution_count": 12,
   "id": "bdc225d4",
   "metadata": {
    "execution": {
     "iopub.execute_input": "2024-08-11T12:19:11.122098Z",
     "iopub.status.busy": "2024-08-11T12:19:11.121707Z",
     "iopub.status.idle": "2024-08-11T12:19:11.130522Z",
     "shell.execute_reply": "2024-08-11T12:19:11.129513Z"
    },
    "papermill": {
     "duration": 0.023227,
     "end_time": "2024-08-11T12:19:11.132766",
     "exception": false,
     "start_time": "2024-08-11T12:19:11.109539",
     "status": "completed"
    },
    "tags": []
   },
   "outputs": [
    {
     "data": {
      "text/plain": [
       "Gender\n",
       "Male      5457\n",
       "Female    4543\n",
       "Name: count, dtype: int64"
      ]
     },
     "execution_count": 12,
     "metadata": {},
     "output_type": "execute_result"
    }
   ],
   "source": [
    "df['Gender'].value_counts()"
   ]
  },
  {
   "cell_type": "markdown",
   "id": "a8f9401a",
   "metadata": {
    "papermill": {
     "duration": 0.010271,
     "end_time": "2024-08-11T12:19:11.153489",
     "exception": false,
     "start_time": "2024-08-11T12:19:11.143218",
     "status": "completed"
    },
    "tags": []
   },
   "source": [
    "# Handeling nonnumeric variable(character)"
   ]
  },
  {
   "cell_type": "code",
   "execution_count": 13,
   "id": "837b21cb",
   "metadata": {
    "execution": {
     "iopub.execute_input": "2024-08-11T12:19:11.176215Z",
     "iopub.status.busy": "2024-08-11T12:19:11.175404Z",
     "iopub.status.idle": "2024-08-11T12:19:11.187056Z",
     "shell.execute_reply": "2024-08-11T12:19:11.185980Z"
    },
    "papermill": {
     "duration": 0.025593,
     "end_time": "2024-08-11T12:19:11.189468",
     "exception": false,
     "start_time": "2024-08-11T12:19:11.163875",
     "status": "completed"
    },
    "tags": []
   },
   "outputs": [],
   "source": [
    "df=pd.get_dummies(df,columns=['Geography','Gender'],drop_first=True,dtype=int)"
   ]
  },
  {
   "cell_type": "code",
   "execution_count": 14,
   "id": "1b1d8156",
   "metadata": {
    "execution": {
     "iopub.execute_input": "2024-08-11T12:19:11.212384Z",
     "iopub.status.busy": "2024-08-11T12:19:11.211516Z",
     "iopub.status.idle": "2024-08-11T12:19:11.225472Z",
     "shell.execute_reply": "2024-08-11T12:19:11.224450Z"
    },
    "papermill": {
     "duration": 0.027659,
     "end_time": "2024-08-11T12:19:11.227539",
     "exception": false,
     "start_time": "2024-08-11T12:19:11.199880",
     "status": "completed"
    },
    "tags": []
   },
   "outputs": [
    {
     "data": {
      "text/html": [
       "<div>\n",
       "<style scoped>\n",
       "    .dataframe tbody tr th:only-of-type {\n",
       "        vertical-align: middle;\n",
       "    }\n",
       "\n",
       "    .dataframe tbody tr th {\n",
       "        vertical-align: top;\n",
       "    }\n",
       "\n",
       "    .dataframe thead th {\n",
       "        text-align: right;\n",
       "    }\n",
       "</style>\n",
       "<table border=\"1\" class=\"dataframe\">\n",
       "  <thead>\n",
       "    <tr style=\"text-align: right;\">\n",
       "      <th></th>\n",
       "      <th>CreditScore</th>\n",
       "      <th>Age</th>\n",
       "      <th>Tenure</th>\n",
       "      <th>Balance</th>\n",
       "      <th>NumOfProducts</th>\n",
       "      <th>HasCrCard</th>\n",
       "      <th>IsActiveMember</th>\n",
       "      <th>EstimatedSalary</th>\n",
       "      <th>Exited</th>\n",
       "      <th>Geography_Germany</th>\n",
       "      <th>Geography_Spain</th>\n",
       "      <th>Gender_Male</th>\n",
       "    </tr>\n",
       "  </thead>\n",
       "  <tbody>\n",
       "    <tr>\n",
       "      <th>0</th>\n",
       "      <td>619</td>\n",
       "      <td>42</td>\n",
       "      <td>2</td>\n",
       "      <td>0.00</td>\n",
       "      <td>1</td>\n",
       "      <td>1</td>\n",
       "      <td>1</td>\n",
       "      <td>101348.88</td>\n",
       "      <td>1</td>\n",
       "      <td>0</td>\n",
       "      <td>0</td>\n",
       "      <td>0</td>\n",
       "    </tr>\n",
       "    <tr>\n",
       "      <th>1</th>\n",
       "      <td>608</td>\n",
       "      <td>41</td>\n",
       "      <td>1</td>\n",
       "      <td>83807.86</td>\n",
       "      <td>1</td>\n",
       "      <td>0</td>\n",
       "      <td>1</td>\n",
       "      <td>112542.58</td>\n",
       "      <td>0</td>\n",
       "      <td>0</td>\n",
       "      <td>1</td>\n",
       "      <td>0</td>\n",
       "    </tr>\n",
       "    <tr>\n",
       "      <th>2</th>\n",
       "      <td>502</td>\n",
       "      <td>42</td>\n",
       "      <td>8</td>\n",
       "      <td>159660.80</td>\n",
       "      <td>3</td>\n",
       "      <td>1</td>\n",
       "      <td>0</td>\n",
       "      <td>113931.57</td>\n",
       "      <td>1</td>\n",
       "      <td>0</td>\n",
       "      <td>0</td>\n",
       "      <td>0</td>\n",
       "    </tr>\n",
       "    <tr>\n",
       "      <th>3</th>\n",
       "      <td>699</td>\n",
       "      <td>39</td>\n",
       "      <td>1</td>\n",
       "      <td>0.00</td>\n",
       "      <td>2</td>\n",
       "      <td>0</td>\n",
       "      <td>0</td>\n",
       "      <td>93826.63</td>\n",
       "      <td>0</td>\n",
       "      <td>0</td>\n",
       "      <td>0</td>\n",
       "      <td>0</td>\n",
       "    </tr>\n",
       "    <tr>\n",
       "      <th>4</th>\n",
       "      <td>850</td>\n",
       "      <td>43</td>\n",
       "      <td>2</td>\n",
       "      <td>125510.82</td>\n",
       "      <td>1</td>\n",
       "      <td>1</td>\n",
       "      <td>1</td>\n",
       "      <td>79084.10</td>\n",
       "      <td>0</td>\n",
       "      <td>0</td>\n",
       "      <td>1</td>\n",
       "      <td>0</td>\n",
       "    </tr>\n",
       "  </tbody>\n",
       "</table>\n",
       "</div>"
      ],
      "text/plain": [
       "   CreditScore  Age  Tenure    Balance  NumOfProducts  HasCrCard  \\\n",
       "0          619   42       2       0.00              1          1   \n",
       "1          608   41       1   83807.86              1          0   \n",
       "2          502   42       8  159660.80              3          1   \n",
       "3          699   39       1       0.00              2          0   \n",
       "4          850   43       2  125510.82              1          1   \n",
       "\n",
       "   IsActiveMember  EstimatedSalary  Exited  Geography_Germany  \\\n",
       "0               1        101348.88       1                  0   \n",
       "1               1        112542.58       0                  0   \n",
       "2               0        113931.57       1                  0   \n",
       "3               0         93826.63       0                  0   \n",
       "4               1         79084.10       0                  0   \n",
       "\n",
       "   Geography_Spain  Gender_Male  \n",
       "0                0            0  \n",
       "1                1            0  \n",
       "2                0            0  \n",
       "3                0            0  \n",
       "4                1            0  "
      ]
     },
     "execution_count": 14,
     "metadata": {},
     "output_type": "execute_result"
    }
   ],
   "source": [
    "df.head()"
   ]
  },
  {
   "cell_type": "code",
   "execution_count": 15,
   "id": "2d162e08",
   "metadata": {
    "execution": {
     "iopub.execute_input": "2024-08-11T12:19:11.251186Z",
     "iopub.status.busy": "2024-08-11T12:19:11.250789Z",
     "iopub.status.idle": "2024-08-11T12:19:11.257531Z",
     "shell.execute_reply": "2024-08-11T12:19:11.256436Z"
    },
    "papermill": {
     "duration": 0.021408,
     "end_time": "2024-08-11T12:19:11.259593",
     "exception": false,
     "start_time": "2024-08-11T12:19:11.238185",
     "status": "completed"
    },
    "tags": []
   },
   "outputs": [
    {
     "data": {
      "text/plain": [
       "(10000, 12)"
      ]
     },
     "execution_count": 15,
     "metadata": {},
     "output_type": "execute_result"
    }
   ],
   "source": [
    "df.shape"
   ]
  },
  {
   "cell_type": "code",
   "execution_count": 16,
   "id": "dbad03b2",
   "metadata": {
    "execution": {
     "iopub.execute_input": "2024-08-11T12:19:11.283854Z",
     "iopub.status.busy": "2024-08-11T12:19:11.282754Z",
     "iopub.status.idle": "2024-08-11T12:19:11.289890Z",
     "shell.execute_reply": "2024-08-11T12:19:11.288940Z"
    },
    "papermill": {
     "duration": 0.021742,
     "end_time": "2024-08-11T12:19:11.292204",
     "exception": false,
     "start_time": "2024-08-11T12:19:11.270462",
     "status": "completed"
    },
    "tags": []
   },
   "outputs": [],
   "source": [
    "X=df.drop(columns=['Exited'])\n",
    "y=df['Exited']"
   ]
  },
  {
   "cell_type": "code",
   "execution_count": 17,
   "id": "bfa08d32",
   "metadata": {
    "execution": {
     "iopub.execute_input": "2024-08-11T12:19:11.316762Z",
     "iopub.status.busy": "2024-08-11T12:19:11.316361Z",
     "iopub.status.idle": "2024-08-11T12:19:11.323140Z",
     "shell.execute_reply": "2024-08-11T12:19:11.321295Z"
    },
    "papermill": {
     "duration": 0.022407,
     "end_time": "2024-08-11T12:19:11.325663",
     "exception": false,
     "start_time": "2024-08-11T12:19:11.303256",
     "status": "completed"
    },
    "tags": []
   },
   "outputs": [
    {
     "name": "stdout",
     "output_type": "stream",
     "text": [
      "(10000, 11)\n",
      "(10000,)\n"
     ]
    }
   ],
   "source": [
    "print(X.shape)\n",
    "print(y.shape)"
   ]
  },
  {
   "cell_type": "markdown",
   "id": "0d90d92d",
   "metadata": {
    "papermill": {
     "duration": 0.010689,
     "end_time": "2024-08-11T12:19:11.347342",
     "exception": false,
     "start_time": "2024-08-11T12:19:11.336653",
     "status": "completed"
    },
    "tags": []
   },
   "source": [
    "# Train Test split"
   ]
  },
  {
   "cell_type": "code",
   "execution_count": 18,
   "id": "ed1eae9a",
   "metadata": {
    "execution": {
     "iopub.execute_input": "2024-08-11T12:19:11.371041Z",
     "iopub.status.busy": "2024-08-11T12:19:11.370639Z",
     "iopub.status.idle": "2024-08-11T12:19:12.659273Z",
     "shell.execute_reply": "2024-08-11T12:19:12.658220Z"
    },
    "papermill": {
     "duration": 1.303345,
     "end_time": "2024-08-11T12:19:12.661804",
     "exception": false,
     "start_time": "2024-08-11T12:19:11.358459",
     "status": "completed"
    },
    "tags": []
   },
   "outputs": [],
   "source": [
    "from sklearn.model_selection import train_test_split\n",
    "X_train,X_test,y_train,y_test=train_test_split(X,y,test_size=0.2,random_state=1)"
   ]
  },
  {
   "cell_type": "code",
   "execution_count": 19,
   "id": "213b96c8",
   "metadata": {
    "execution": {
     "iopub.execute_input": "2024-08-11T12:19:12.685091Z",
     "iopub.status.busy": "2024-08-11T12:19:12.684697Z",
     "iopub.status.idle": "2024-08-11T12:19:12.690409Z",
     "shell.execute_reply": "2024-08-11T12:19:12.689324Z"
    },
    "papermill": {
     "duration": 0.020587,
     "end_time": "2024-08-11T12:19:12.693264",
     "exception": false,
     "start_time": "2024-08-11T12:19:12.672677",
     "status": "completed"
    },
    "tags": []
   },
   "outputs": [
    {
     "name": "stdout",
     "output_type": "stream",
     "text": [
      "(8000, 11)\n",
      "(2000, 11)\n",
      "(8000,)\n",
      "(2000,)\n"
     ]
    }
   ],
   "source": [
    "print(X_train.shape)\n",
    "print(X_test.shape)\n",
    "print(y_train.shape)\n",
    "print(y_test.shape)"
   ]
  },
  {
   "cell_type": "markdown",
   "id": "058165b3",
   "metadata": {
    "papermill": {
     "duration": 0.010474,
     "end_time": "2024-08-11T12:19:12.714742",
     "exception": false,
     "start_time": "2024-08-11T12:19:12.704268",
     "status": "completed"
    },
    "tags": []
   },
   "source": [
    "# Scaling"
   ]
  },
  {
   "cell_type": "code",
   "execution_count": 20,
   "id": "5875b19b",
   "metadata": {
    "execution": {
     "iopub.execute_input": "2024-08-11T12:19:12.738307Z",
     "iopub.status.busy": "2024-08-11T12:19:12.737788Z",
     "iopub.status.idle": "2024-08-11T12:19:12.751804Z",
     "shell.execute_reply": "2024-08-11T12:19:12.750415Z"
    },
    "papermill": {
     "duration": 0.028555,
     "end_time": "2024-08-11T12:19:12.754380",
     "exception": false,
     "start_time": "2024-08-11T12:19:12.725825",
     "status": "completed"
    },
    "tags": []
   },
   "outputs": [],
   "source": [
    "from sklearn.preprocessing import StandardScaler\n",
    "scaler=StandardScaler()\n",
    "X_train_scaled=scaler.fit_transform(X_train)\n",
    "X_test_scaled=scaler.transform(X_test)"
   ]
  },
  {
   "cell_type": "markdown",
   "id": "33a7b5b5",
   "metadata": {
    "papermill": {
     "duration": 0.010484,
     "end_time": "2024-08-11T12:19:12.775796",
     "exception": false,
     "start_time": "2024-08-11T12:19:12.765312",
     "status": "completed"
    },
    "tags": []
   },
   "source": [
    "# Model "
   ]
  },
  {
   "cell_type": "code",
   "execution_count": 21,
   "id": "f549490e",
   "metadata": {
    "execution": {
     "iopub.execute_input": "2024-08-11T12:19:12.857392Z",
     "iopub.status.busy": "2024-08-11T12:19:12.857004Z",
     "iopub.status.idle": "2024-08-11T12:19:26.086069Z",
     "shell.execute_reply": "2024-08-11T12:19:26.085098Z"
    },
    "papermill": {
     "duration": 13.301895,
     "end_time": "2024-08-11T12:19:26.088675",
     "exception": false,
     "start_time": "2024-08-11T12:19:12.786780",
     "status": "completed"
    },
    "tags": []
   },
   "outputs": [
    {
     "name": "stderr",
     "output_type": "stream",
     "text": [
      "2024-08-11 12:19:15.056796: E external/local_xla/xla/stream_executor/cuda/cuda_dnn.cc:9261] Unable to register cuDNN factory: Attempting to register factory for plugin cuDNN when one has already been registered\n",
      "2024-08-11 12:19:15.056967: E external/local_xla/xla/stream_executor/cuda/cuda_fft.cc:607] Unable to register cuFFT factory: Attempting to register factory for plugin cuFFT when one has already been registered\n",
      "2024-08-11 12:19:15.219101: E external/local_xla/xla/stream_executor/cuda/cuda_blas.cc:1515] Unable to register cuBLAS factory: Attempting to register factory for plugin cuBLAS when one has already been registered\n"
     ]
    }
   ],
   "source": [
    "import tensorflow\n",
    "from tensorflow import keras\n",
    "from tensorflow.keras import Sequential\n",
    "from tensorflow.keras.layers import Dense"
   ]
  },
  {
   "cell_type": "code",
   "execution_count": 22,
   "id": "4010eb9d",
   "metadata": {
    "execution": {
     "iopub.execute_input": "2024-08-11T12:19:26.113850Z",
     "iopub.status.busy": "2024-08-11T12:19:26.113181Z",
     "iopub.status.idle": "2024-08-11T12:19:26.193926Z",
     "shell.execute_reply": "2024-08-11T12:19:26.192844Z"
    },
    "papermill": {
     "duration": 0.096205,
     "end_time": "2024-08-11T12:19:26.196348",
     "exception": false,
     "start_time": "2024-08-11T12:19:26.100143",
     "status": "completed"
    },
    "tags": []
   },
   "outputs": [
    {
     "name": "stderr",
     "output_type": "stream",
     "text": [
      "/opt/conda/lib/python3.10/site-packages/keras/src/layers/core/dense.py:87: UserWarning: Do not pass an `input_shape`/`input_dim` argument to a layer. When using Sequential models, prefer using an `Input(shape)` object as the first layer in the model instead.\n",
      "  super().__init__(activity_regularizer=activity_regularizer, **kwargs)\n"
     ]
    }
   ],
   "source": [
    "model=Sequential()\n",
    "model.add(Dense(3,activation='relu',input_dim=11))\n",
    "model.add(Dense(1,activation='sigmoid'))"
   ]
  },
  {
   "cell_type": "code",
   "execution_count": 23,
   "id": "c5b810a0",
   "metadata": {
    "execution": {
     "iopub.execute_input": "2024-08-11T12:19:26.220575Z",
     "iopub.status.busy": "2024-08-11T12:19:26.220183Z",
     "iopub.status.idle": "2024-08-11T12:19:26.239091Z",
     "shell.execute_reply": "2024-08-11T12:19:26.237962Z"
    },
    "papermill": {
     "duration": 0.033677,
     "end_time": "2024-08-11T12:19:26.241228",
     "exception": false,
     "start_time": "2024-08-11T12:19:26.207551",
     "status": "completed"
    },
    "tags": []
   },
   "outputs": [
    {
     "data": {
      "text/html": [
       "<pre style=\"white-space:pre;overflow-x:auto;line-height:normal;font-family:Menlo,'DejaVu Sans Mono',consolas,'Courier New',monospace\"><span style=\"font-weight: bold\">Model: \"sequential\"</span>\n",
       "</pre>\n"
      ],
      "text/plain": [
       "\u001b[1mModel: \"sequential\"\u001b[0m\n"
      ]
     },
     "metadata": {},
     "output_type": "display_data"
    },
    {
     "data": {
      "text/html": [
       "<pre style=\"white-space:pre;overflow-x:auto;line-height:normal;font-family:Menlo,'DejaVu Sans Mono',consolas,'Courier New',monospace\">┏━━━━━━━━━━━━━━━━━━━━━━━━━━━━━━━━━┳━━━━━━━━━━━━━━━━━━━━━━━━┳━━━━━━━━━━━━━━━┓\n",
       "┃<span style=\"font-weight: bold\"> Layer (type)                    </span>┃<span style=\"font-weight: bold\"> Output Shape           </span>┃<span style=\"font-weight: bold\">       Param # </span>┃\n",
       "┡━━━━━━━━━━━━━━━━━━━━━━━━━━━━━━━━━╇━━━━━━━━━━━━━━━━━━━━━━━━╇━━━━━━━━━━━━━━━┩\n",
       "│ dense (<span style=\"color: #0087ff; text-decoration-color: #0087ff\">Dense</span>)                   │ (<span style=\"color: #00d7ff; text-decoration-color: #00d7ff\">None</span>, <span style=\"color: #00af00; text-decoration-color: #00af00\">3</span>)              │            <span style=\"color: #00af00; text-decoration-color: #00af00\">36</span> │\n",
       "├─────────────────────────────────┼────────────────────────┼───────────────┤\n",
       "│ dense_1 (<span style=\"color: #0087ff; text-decoration-color: #0087ff\">Dense</span>)                 │ (<span style=\"color: #00d7ff; text-decoration-color: #00d7ff\">None</span>, <span style=\"color: #00af00; text-decoration-color: #00af00\">1</span>)              │             <span style=\"color: #00af00; text-decoration-color: #00af00\">4</span> │\n",
       "└─────────────────────────────────┴────────────────────────┴───────────────┘\n",
       "</pre>\n"
      ],
      "text/plain": [
       "┏━━━━━━━━━━━━━━━━━━━━━━━━━━━━━━━━━┳━━━━━━━━━━━━━━━━━━━━━━━━┳━━━━━━━━━━━━━━━┓\n",
       "┃\u001b[1m \u001b[0m\u001b[1mLayer (type)                   \u001b[0m\u001b[1m \u001b[0m┃\u001b[1m \u001b[0m\u001b[1mOutput Shape          \u001b[0m\u001b[1m \u001b[0m┃\u001b[1m \u001b[0m\u001b[1m      Param #\u001b[0m\u001b[1m \u001b[0m┃\n",
       "┡━━━━━━━━━━━━━━━━━━━━━━━━━━━━━━━━━╇━━━━━━━━━━━━━━━━━━━━━━━━╇━━━━━━━━━━━━━━━┩\n",
       "│ dense (\u001b[38;5;33mDense\u001b[0m)                   │ (\u001b[38;5;45mNone\u001b[0m, \u001b[38;5;34m3\u001b[0m)              │            \u001b[38;5;34m36\u001b[0m │\n",
       "├─────────────────────────────────┼────────────────────────┼───────────────┤\n",
       "│ dense_1 (\u001b[38;5;33mDense\u001b[0m)                 │ (\u001b[38;5;45mNone\u001b[0m, \u001b[38;5;34m1\u001b[0m)              │             \u001b[38;5;34m4\u001b[0m │\n",
       "└─────────────────────────────────┴────────────────────────┴───────────────┘\n"
      ]
     },
     "metadata": {},
     "output_type": "display_data"
    },
    {
     "data": {
      "text/html": [
       "<pre style=\"white-space:pre;overflow-x:auto;line-height:normal;font-family:Menlo,'DejaVu Sans Mono',consolas,'Courier New',monospace\"><span style=\"font-weight: bold\"> Total params: </span><span style=\"color: #00af00; text-decoration-color: #00af00\">40</span> (160.00 B)\n",
       "</pre>\n"
      ],
      "text/plain": [
       "\u001b[1m Total params: \u001b[0m\u001b[38;5;34m40\u001b[0m (160.00 B)\n"
      ]
     },
     "metadata": {},
     "output_type": "display_data"
    },
    {
     "data": {
      "text/html": [
       "<pre style=\"white-space:pre;overflow-x:auto;line-height:normal;font-family:Menlo,'DejaVu Sans Mono',consolas,'Courier New',monospace\"><span style=\"font-weight: bold\"> Trainable params: </span><span style=\"color: #00af00; text-decoration-color: #00af00\">40</span> (160.00 B)\n",
       "</pre>\n"
      ],
      "text/plain": [
       "\u001b[1m Trainable params: \u001b[0m\u001b[38;5;34m40\u001b[0m (160.00 B)\n"
      ]
     },
     "metadata": {},
     "output_type": "display_data"
    },
    {
     "data": {
      "text/html": [
       "<pre style=\"white-space:pre;overflow-x:auto;line-height:normal;font-family:Menlo,'DejaVu Sans Mono',consolas,'Courier New',monospace\"><span style=\"font-weight: bold\"> Non-trainable params: </span><span style=\"color: #00af00; text-decoration-color: #00af00\">0</span> (0.00 B)\n",
       "</pre>\n"
      ],
      "text/plain": [
       "\u001b[1m Non-trainable params: \u001b[0m\u001b[38;5;34m0\u001b[0m (0.00 B)\n"
      ]
     },
     "metadata": {},
     "output_type": "display_data"
    }
   ],
   "source": [
    "model.summary()"
   ]
  },
  {
   "cell_type": "code",
   "execution_count": 24,
   "id": "7018326d",
   "metadata": {
    "execution": {
     "iopub.execute_input": "2024-08-11T12:19:26.266821Z",
     "iopub.status.busy": "2024-08-11T12:19:26.266439Z",
     "iopub.status.idle": "2024-08-11T12:19:26.282488Z",
     "shell.execute_reply": "2024-08-11T12:19:26.281374Z"
    },
    "papermill": {
     "duration": 0.031779,
     "end_time": "2024-08-11T12:19:26.285116",
     "exception": false,
     "start_time": "2024-08-11T12:19:26.253337",
     "status": "completed"
    },
    "tags": []
   },
   "outputs": [],
   "source": [
    "model.compile(loss='binary_crossentropy',optimizer=\"Adam\",metrics=[\"accuracy\"])"
   ]
  },
  {
   "cell_type": "code",
   "execution_count": 25,
   "id": "9f3a230b",
   "metadata": {
    "execution": {
     "iopub.execute_input": "2024-08-11T12:19:26.310785Z",
     "iopub.status.busy": "2024-08-11T12:19:26.310390Z",
     "iopub.status.idle": "2024-08-11T12:20:01.362786Z",
     "shell.execute_reply": "2024-08-11T12:20:01.361535Z"
    },
    "papermill": {
     "duration": 35.068382,
     "end_time": "2024-08-11T12:20:01.365616",
     "exception": false,
     "start_time": "2024-08-11T12:19:26.297234",
     "status": "completed"
    },
    "tags": []
   },
   "outputs": [
    {
     "name": "stdout",
     "output_type": "stream",
     "text": [
      "Epoch 1/100\n",
      "\u001b[1m200/200\u001b[0m \u001b[32m━━━━━━━━━━━━━━━━━━━━\u001b[0m\u001b[37m\u001b[0m \u001b[1m1s\u001b[0m 2ms/step - accuracy: 0.4778 - loss: 0.8127 - val_accuracy: 0.6737 - val_loss: 0.6527\n",
      "Epoch 2/100\n",
      "\u001b[1m200/200\u001b[0m \u001b[32m━━━━━━━━━━━━━━━━━━━━\u001b[0m\u001b[37m\u001b[0m \u001b[1m0s\u001b[0m 2ms/step - accuracy: 0.7092 - loss: 0.6276 - val_accuracy: 0.7800 - val_loss: 0.5459\n",
      "Epoch 3/100\n",
      "\u001b[1m200/200\u001b[0m \u001b[32m━━━━━━━━━━━━━━━━━━━━\u001b[0m\u001b[37m\u001b[0m \u001b[1m0s\u001b[0m 2ms/step - accuracy: 0.7828 - loss: 0.5369 - val_accuracy: 0.7956 - val_loss: 0.4919\n",
      "Epoch 4/100\n",
      "\u001b[1m200/200\u001b[0m \u001b[32m━━━━━━━━━━━━━━━━━━━━\u001b[0m\u001b[37m\u001b[0m \u001b[1m0s\u001b[0m 2ms/step - accuracy: 0.8113 - loss: 0.4745 - val_accuracy: 0.7969 - val_loss: 0.4694\n",
      "Epoch 5/100\n",
      "\u001b[1m200/200\u001b[0m \u001b[32m━━━━━━━━━━━━━━━━━━━━\u001b[0m\u001b[37m\u001b[0m \u001b[1m0s\u001b[0m 2ms/step - accuracy: 0.7920 - loss: 0.4739 - val_accuracy: 0.7975 - val_loss: 0.4576\n",
      "Epoch 6/100\n",
      "\u001b[1m200/200\u001b[0m \u001b[32m━━━━━━━━━━━━━━━━━━━━\u001b[0m\u001b[37m\u001b[0m \u001b[1m0s\u001b[0m 1ms/step - accuracy: 0.7957 - loss: 0.4533 - val_accuracy: 0.7950 - val_loss: 0.4498\n",
      "Epoch 7/100\n",
      "\u001b[1m200/200\u001b[0m \u001b[32m━━━━━━━━━━━━━━━━━━━━\u001b[0m\u001b[37m\u001b[0m \u001b[1m0s\u001b[0m 1ms/step - accuracy: 0.8042 - loss: 0.4446 - val_accuracy: 0.7969 - val_loss: 0.4439\n",
      "Epoch 8/100\n",
      "\u001b[1m200/200\u001b[0m \u001b[32m━━━━━━━━━━━━━━━━━━━━\u001b[0m\u001b[37m\u001b[0m \u001b[1m0s\u001b[0m 1ms/step - accuracy: 0.8043 - loss: 0.4379 - val_accuracy: 0.7987 - val_loss: 0.4394\n",
      "Epoch 9/100\n",
      "\u001b[1m200/200\u001b[0m \u001b[32m━━━━━━━━━━━━━━━━━━━━\u001b[0m\u001b[37m\u001b[0m \u001b[1m0s\u001b[0m 1ms/step - accuracy: 0.8016 - loss: 0.4400 - val_accuracy: 0.8025 - val_loss: 0.4350\n",
      "Epoch 10/100\n",
      "\u001b[1m200/200\u001b[0m \u001b[32m━━━━━━━━━━━━━━━━━━━━\u001b[0m\u001b[37m\u001b[0m \u001b[1m0s\u001b[0m 2ms/step - accuracy: 0.8002 - loss: 0.4327 - val_accuracy: 0.8056 - val_loss: 0.4311\n",
      "Epoch 11/100\n",
      "\u001b[1m200/200\u001b[0m \u001b[32m━━━━━━━━━━━━━━━━━━━━\u001b[0m\u001b[37m\u001b[0m \u001b[1m0s\u001b[0m 2ms/step - accuracy: 0.8097 - loss: 0.4282 - val_accuracy: 0.8094 - val_loss: 0.4271\n",
      "Epoch 12/100\n",
      "\u001b[1m200/200\u001b[0m \u001b[32m━━━━━━━━━━━━━━━━━━━━\u001b[0m\u001b[37m\u001b[0m \u001b[1m0s\u001b[0m 2ms/step - accuracy: 0.8087 - loss: 0.4337 - val_accuracy: 0.8144 - val_loss: 0.4234\n",
      "Epoch 13/100\n",
      "\u001b[1m200/200\u001b[0m \u001b[32m━━━━━━━━━━━━━━━━━━━━\u001b[0m\u001b[37m\u001b[0m \u001b[1m0s\u001b[0m 2ms/step - accuracy: 0.8163 - loss: 0.4223 - val_accuracy: 0.8156 - val_loss: 0.4194\n",
      "Epoch 14/100\n",
      "\u001b[1m200/200\u001b[0m \u001b[32m━━━━━━━━━━━━━━━━━━━━\u001b[0m\u001b[37m\u001b[0m \u001b[1m0s\u001b[0m 2ms/step - accuracy: 0.8228 - loss: 0.4110 - val_accuracy: 0.8163 - val_loss: 0.4153\n",
      "Epoch 15/100\n",
      "\u001b[1m200/200\u001b[0m \u001b[32m━━━━━━━━━━━━━━━━━━━━\u001b[0m\u001b[37m\u001b[0m \u001b[1m0s\u001b[0m 2ms/step - accuracy: 0.8114 - loss: 0.4254 - val_accuracy: 0.8175 - val_loss: 0.4125\n",
      "Epoch 16/100\n",
      "\u001b[1m200/200\u001b[0m \u001b[32m━━━━━━━━━━━━━━━━━━━━\u001b[0m\u001b[37m\u001b[0m \u001b[1m0s\u001b[0m 1ms/step - accuracy: 0.8202 - loss: 0.4120 - val_accuracy: 0.8181 - val_loss: 0.4091\n",
      "Epoch 17/100\n",
      "\u001b[1m200/200\u001b[0m \u001b[32m━━━━━━━━━━━━━━━━━━━━\u001b[0m\u001b[37m\u001b[0m \u001b[1m0s\u001b[0m 1ms/step - accuracy: 0.8323 - loss: 0.3987 - val_accuracy: 0.8188 - val_loss: 0.4062\n",
      "Epoch 18/100\n",
      "\u001b[1m200/200\u001b[0m \u001b[32m━━━━━━━━━━━━━━━━━━━━\u001b[0m\u001b[37m\u001b[0m \u001b[1m0s\u001b[0m 1ms/step - accuracy: 0.8246 - loss: 0.4047 - val_accuracy: 0.8219 - val_loss: 0.4032\n",
      "Epoch 19/100\n",
      "\u001b[1m200/200\u001b[0m \u001b[32m━━━━━━━━━━━━━━━━━━━━\u001b[0m\u001b[37m\u001b[0m \u001b[1m0s\u001b[0m 2ms/step - accuracy: 0.8209 - loss: 0.4082 - val_accuracy: 0.8238 - val_loss: 0.4006\n",
      "Epoch 20/100\n",
      "\u001b[1m200/200\u001b[0m \u001b[32m━━━━━━━━━━━━━━━━━━━━\u001b[0m\u001b[37m\u001b[0m \u001b[1m0s\u001b[0m 2ms/step - accuracy: 0.8377 - loss: 0.3877 - val_accuracy: 0.8281 - val_loss: 0.3983\n",
      "Epoch 21/100\n",
      "\u001b[1m200/200\u001b[0m \u001b[32m━━━━━━━━━━━━━━━━━━━━\u001b[0m\u001b[37m\u001b[0m \u001b[1m0s\u001b[0m 2ms/step - accuracy: 0.8365 - loss: 0.3858 - val_accuracy: 0.8300 - val_loss: 0.3962\n",
      "Epoch 22/100\n",
      "\u001b[1m200/200\u001b[0m \u001b[32m━━━━━━━━━━━━━━━━━━━━\u001b[0m\u001b[37m\u001b[0m \u001b[1m0s\u001b[0m 2ms/step - accuracy: 0.8267 - loss: 0.3991 - val_accuracy: 0.8331 - val_loss: 0.3940\n",
      "Epoch 23/100\n",
      "\u001b[1m200/200\u001b[0m \u001b[32m━━━━━━━━━━━━━━━━━━━━\u001b[0m\u001b[37m\u001b[0m \u001b[1m0s\u001b[0m 2ms/step - accuracy: 0.8354 - loss: 0.3884 - val_accuracy: 0.8331 - val_loss: 0.3918\n",
      "Epoch 24/100\n",
      "\u001b[1m200/200\u001b[0m \u001b[32m━━━━━━━━━━━━━━━━━━━━\u001b[0m\u001b[37m\u001b[0m \u001b[1m1s\u001b[0m 2ms/step - accuracy: 0.8382 - loss: 0.3849 - val_accuracy: 0.8319 - val_loss: 0.3905\n",
      "Epoch 25/100\n",
      "\u001b[1m200/200\u001b[0m \u001b[32m━━━━━━━━━━━━━━━━━━━━\u001b[0m\u001b[37m\u001b[0m \u001b[1m0s\u001b[0m 2ms/step - accuracy: 0.8304 - loss: 0.3960 - val_accuracy: 0.8331 - val_loss: 0.3888\n",
      "Epoch 26/100\n",
      "\u001b[1m200/200\u001b[0m \u001b[32m━━━━━━━━━━━━━━━━━━━━\u001b[0m\u001b[37m\u001b[0m \u001b[1m0s\u001b[0m 2ms/step - accuracy: 0.8337 - loss: 0.3875 - val_accuracy: 0.8313 - val_loss: 0.3872\n",
      "Epoch 27/100\n",
      "\u001b[1m200/200\u001b[0m \u001b[32m━━━━━━━━━━━━━━━━━━━━\u001b[0m\u001b[37m\u001b[0m \u001b[1m0s\u001b[0m 2ms/step - accuracy: 0.8288 - loss: 0.3933 - val_accuracy: 0.8319 - val_loss: 0.3859\n",
      "Epoch 28/100\n",
      "\u001b[1m200/200\u001b[0m \u001b[32m━━━━━━━━━━━━━━━━━━━━\u001b[0m\u001b[37m\u001b[0m \u001b[1m0s\u001b[0m 2ms/step - accuracy: 0.8296 - loss: 0.3945 - val_accuracy: 0.8300 - val_loss: 0.3848\n",
      "Epoch 29/100\n",
      "\u001b[1m200/200\u001b[0m \u001b[32m━━━━━━━━━━━━━━━━━━━━\u001b[0m\u001b[37m\u001b[0m \u001b[1m0s\u001b[0m 1ms/step - accuracy: 0.8368 - loss: 0.3803 - val_accuracy: 0.8338 - val_loss: 0.3830\n",
      "Epoch 30/100\n",
      "\u001b[1m200/200\u001b[0m \u001b[32m━━━━━━━━━━━━━━━━━━━━\u001b[0m\u001b[37m\u001b[0m \u001b[1m0s\u001b[0m 2ms/step - accuracy: 0.8380 - loss: 0.3733 - val_accuracy: 0.8325 - val_loss: 0.3814\n",
      "Epoch 31/100\n",
      "\u001b[1m200/200\u001b[0m \u001b[32m━━━━━━━━━━━━━━━━━━━━\u001b[0m\u001b[37m\u001b[0m \u001b[1m0s\u001b[0m 2ms/step - accuracy: 0.8355 - loss: 0.3810 - val_accuracy: 0.8294 - val_loss: 0.3805\n",
      "Epoch 32/100\n",
      "\u001b[1m200/200\u001b[0m \u001b[32m━━━━━━━━━━━━━━━━━━━━\u001b[0m\u001b[37m\u001b[0m \u001b[1m0s\u001b[0m 2ms/step - accuracy: 0.8311 - loss: 0.3775 - val_accuracy: 0.8281 - val_loss: 0.3792\n",
      "Epoch 33/100\n",
      "\u001b[1m200/200\u001b[0m \u001b[32m━━━━━━━━━━━━━━━━━━━━\u001b[0m\u001b[37m\u001b[0m \u001b[1m0s\u001b[0m 2ms/step - accuracy: 0.8360 - loss: 0.3744 - val_accuracy: 0.8306 - val_loss: 0.3783\n",
      "Epoch 34/100\n",
      "\u001b[1m200/200\u001b[0m \u001b[32m━━━━━━━━━━━━━━━━━━━━\u001b[0m\u001b[37m\u001b[0m \u001b[1m0s\u001b[0m 2ms/step - accuracy: 0.8322 - loss: 0.3865 - val_accuracy: 0.8294 - val_loss: 0.3773\n",
      "Epoch 35/100\n",
      "\u001b[1m200/200\u001b[0m \u001b[32m━━━━━━━━━━━━━━━━━━━━\u001b[0m\u001b[37m\u001b[0m \u001b[1m0s\u001b[0m 2ms/step - accuracy: 0.8298 - loss: 0.3825 - val_accuracy: 0.8319 - val_loss: 0.3760\n",
      "Epoch 36/100\n",
      "\u001b[1m200/200\u001b[0m \u001b[32m━━━━━━━━━━━━━━━━━━━━\u001b[0m\u001b[37m\u001b[0m \u001b[1m0s\u001b[0m 2ms/step - accuracy: 0.8244 - loss: 0.3832 - val_accuracy: 0.8306 - val_loss: 0.3750\n",
      "Epoch 37/100\n",
      "\u001b[1m200/200\u001b[0m \u001b[32m━━━━━━━━━━━━━━━━━━━━\u001b[0m\u001b[37m\u001b[0m \u001b[1m0s\u001b[0m 2ms/step - accuracy: 0.8349 - loss: 0.3680 - val_accuracy: 0.8313 - val_loss: 0.3741\n",
      "Epoch 38/100\n",
      "\u001b[1m200/200\u001b[0m \u001b[32m━━━━━━━━━━━━━━━━━━━━\u001b[0m\u001b[37m\u001b[0m \u001b[1m0s\u001b[0m 2ms/step - accuracy: 0.8297 - loss: 0.3797 - val_accuracy: 0.8319 - val_loss: 0.3731\n",
      "Epoch 39/100\n",
      "\u001b[1m200/200\u001b[0m \u001b[32m━━━━━━━━━━━━━━━━━━━━\u001b[0m\u001b[37m\u001b[0m \u001b[1m0s\u001b[0m 2ms/step - accuracy: 0.8419 - loss: 0.3664 - val_accuracy: 0.8313 - val_loss: 0.3723\n",
      "Epoch 40/100\n",
      "\u001b[1m200/200\u001b[0m \u001b[32m━━━━━━━━━━━━━━━━━━━━\u001b[0m\u001b[37m\u001b[0m \u001b[1m0s\u001b[0m 2ms/step - accuracy: 0.8323 - loss: 0.3805 - val_accuracy: 0.8300 - val_loss: 0.3716\n",
      "Epoch 41/100\n",
      "\u001b[1m200/200\u001b[0m \u001b[32m━━━━━━━━━━━━━━━━━━━━\u001b[0m\u001b[37m\u001b[0m \u001b[1m0s\u001b[0m 2ms/step - accuracy: 0.8290 - loss: 0.3769 - val_accuracy: 0.8306 - val_loss: 0.3708\n",
      "Epoch 42/100\n",
      "\u001b[1m200/200\u001b[0m \u001b[32m━━━━━━━━━━━━━━━━━━━━\u001b[0m\u001b[37m\u001b[0m \u001b[1m0s\u001b[0m 2ms/step - accuracy: 0.8262 - loss: 0.3842 - val_accuracy: 0.8288 - val_loss: 0.3707\n",
      "Epoch 43/100\n",
      "\u001b[1m200/200\u001b[0m \u001b[32m━━━━━━━━━━━━━━━━━━━━\u001b[0m\u001b[37m\u001b[0m \u001b[1m0s\u001b[0m 2ms/step - accuracy: 0.8275 - loss: 0.3771 - val_accuracy: 0.8288 - val_loss: 0.3701\n",
      "Epoch 44/100\n",
      "\u001b[1m200/200\u001b[0m \u001b[32m━━━━━━━━━━━━━━━━━━━━\u001b[0m\u001b[37m\u001b[0m \u001b[1m0s\u001b[0m 1ms/step - accuracy: 0.8352 - loss: 0.3705 - val_accuracy: 0.8306 - val_loss: 0.3685\n",
      "Epoch 45/100\n",
      "\u001b[1m200/200\u001b[0m \u001b[32m━━━━━━━━━━━━━━━━━━━━\u001b[0m\u001b[37m\u001b[0m \u001b[1m0s\u001b[0m 2ms/step - accuracy: 0.8350 - loss: 0.3669 - val_accuracy: 0.8313 - val_loss: 0.3683\n",
      "Epoch 46/100\n",
      "\u001b[1m200/200\u001b[0m \u001b[32m━━━━━━━━━━━━━━━━━━━━\u001b[0m\u001b[37m\u001b[0m \u001b[1m0s\u001b[0m 2ms/step - accuracy: 0.8364 - loss: 0.3580 - val_accuracy: 0.8319 - val_loss: 0.3674\n",
      "Epoch 47/100\n",
      "\u001b[1m200/200\u001b[0m \u001b[32m━━━━━━━━━━━━━━━━━━━━\u001b[0m\u001b[37m\u001b[0m \u001b[1m0s\u001b[0m 2ms/step - accuracy: 0.8263 - loss: 0.3789 - val_accuracy: 0.8288 - val_loss: 0.3672\n",
      "Epoch 48/100\n",
      "\u001b[1m200/200\u001b[0m \u001b[32m━━━━━━━━━━━━━━━━━━━━\u001b[0m\u001b[37m\u001b[0m \u001b[1m0s\u001b[0m 2ms/step - accuracy: 0.8430 - loss: 0.3618 - val_accuracy: 0.8456 - val_loss: 0.3665\n",
      "Epoch 49/100\n",
      "\u001b[1m200/200\u001b[0m \u001b[32m━━━━━━━━━━━━━━━━━━━━\u001b[0m\u001b[37m\u001b[0m \u001b[1m0s\u001b[0m 1ms/step - accuracy: 0.8455 - loss: 0.3654 - val_accuracy: 0.8438 - val_loss: 0.3663\n",
      "Epoch 50/100\n",
      "\u001b[1m200/200\u001b[0m \u001b[32m━━━━━━━━━━━━━━━━━━━━\u001b[0m\u001b[37m\u001b[0m \u001b[1m0s\u001b[0m 1ms/step - accuracy: 0.8505 - loss: 0.3582 - val_accuracy: 0.8438 - val_loss: 0.3655\n",
      "Epoch 51/100\n",
      "\u001b[1m200/200\u001b[0m \u001b[32m━━━━━━━━━━━━━━━━━━━━\u001b[0m\u001b[37m\u001b[0m \u001b[1m0s\u001b[0m 2ms/step - accuracy: 0.8538 - loss: 0.3608 - val_accuracy: 0.8481 - val_loss: 0.3647\n",
      "Epoch 52/100\n",
      "\u001b[1m200/200\u001b[0m \u001b[32m━━━━━━━━━━━━━━━━━━━━\u001b[0m\u001b[37m\u001b[0m \u001b[1m0s\u001b[0m 2ms/step - accuracy: 0.8474 - loss: 0.3757 - val_accuracy: 0.8431 - val_loss: 0.3645\n",
      "Epoch 53/100\n",
      "\u001b[1m200/200\u001b[0m \u001b[32m━━━━━━━━━━━━━━━━━━━━\u001b[0m\u001b[37m\u001b[0m \u001b[1m0s\u001b[0m 2ms/step - accuracy: 0.8568 - loss: 0.3582 - val_accuracy: 0.8469 - val_loss: 0.3637\n",
      "Epoch 54/100\n",
      "\u001b[1m200/200\u001b[0m \u001b[32m━━━━━━━━━━━━━━━━━━━━\u001b[0m\u001b[37m\u001b[0m \u001b[1m0s\u001b[0m 2ms/step - accuracy: 0.8540 - loss: 0.3563 - val_accuracy: 0.8462 - val_loss: 0.3629\n",
      "Epoch 55/100\n",
      "\u001b[1m200/200\u001b[0m \u001b[32m━━━━━━━━━━━━━━━━━━━━\u001b[0m\u001b[37m\u001b[0m \u001b[1m0s\u001b[0m 2ms/step - accuracy: 0.8442 - loss: 0.3719 - val_accuracy: 0.8462 - val_loss: 0.3629\n",
      "Epoch 56/100\n",
      "\u001b[1m200/200\u001b[0m \u001b[32m━━━━━━━━━━━━━━━━━━━━\u001b[0m\u001b[37m\u001b[0m \u001b[1m0s\u001b[0m 2ms/step - accuracy: 0.8500 - loss: 0.3699 - val_accuracy: 0.8419 - val_loss: 0.3633\n",
      "Epoch 57/100\n",
      "\u001b[1m200/200\u001b[0m \u001b[32m━━━━━━━━━━━━━━━━━━━━\u001b[0m\u001b[37m\u001b[0m \u001b[1m0s\u001b[0m 2ms/step - accuracy: 0.8546 - loss: 0.3608 - val_accuracy: 0.8425 - val_loss: 0.3622\n",
      "Epoch 58/100\n",
      "\u001b[1m200/200\u001b[0m \u001b[32m━━━━━━━━━━━━━━━━━━━━\u001b[0m\u001b[37m\u001b[0m \u001b[1m0s\u001b[0m 1ms/step - accuracy: 0.8577 - loss: 0.3609 - val_accuracy: 0.8450 - val_loss: 0.3619\n",
      "Epoch 59/100\n",
      "\u001b[1m200/200\u001b[0m \u001b[32m━━━━━━━━━━━━━━━━━━━━\u001b[0m\u001b[37m\u001b[0m \u001b[1m0s\u001b[0m 1ms/step - accuracy: 0.8519 - loss: 0.3685 - val_accuracy: 0.8438 - val_loss: 0.3615\n",
      "Epoch 60/100\n",
      "\u001b[1m200/200\u001b[0m \u001b[32m━━━━━━━━━━━━━━━━━━━━\u001b[0m\u001b[37m\u001b[0m \u001b[1m0s\u001b[0m 2ms/step - accuracy: 0.8510 - loss: 0.3660 - val_accuracy: 0.8431 - val_loss: 0.3615\n",
      "Epoch 61/100\n",
      "\u001b[1m200/200\u001b[0m \u001b[32m━━━━━━━━━━━━━━━━━━━━\u001b[0m\u001b[37m\u001b[0m \u001b[1m0s\u001b[0m 2ms/step - accuracy: 0.8534 - loss: 0.3584 - val_accuracy: 0.8431 - val_loss: 0.3608\n",
      "Epoch 62/100\n",
      "\u001b[1m200/200\u001b[0m \u001b[32m━━━━━━━━━━━━━━━━━━━━\u001b[0m\u001b[37m\u001b[0m \u001b[1m0s\u001b[0m 1ms/step - accuracy: 0.8452 - loss: 0.3760 - val_accuracy: 0.8425 - val_loss: 0.3606\n",
      "Epoch 63/100\n",
      "\u001b[1m200/200\u001b[0m \u001b[32m━━━━━━━━━━━━━━━━━━━━\u001b[0m\u001b[37m\u001b[0m \u001b[1m0s\u001b[0m 2ms/step - accuracy: 0.8487 - loss: 0.3685 - val_accuracy: 0.8450 - val_loss: 0.3600\n",
      "Epoch 64/100\n",
      "\u001b[1m200/200\u001b[0m \u001b[32m━━━━━━━━━━━━━━━━━━━━\u001b[0m\u001b[37m\u001b[0m \u001b[1m0s\u001b[0m 2ms/step - accuracy: 0.8548 - loss: 0.3590 - val_accuracy: 0.8481 - val_loss: 0.3590\n",
      "Epoch 65/100\n",
      "\u001b[1m200/200\u001b[0m \u001b[32m━━━━━━━━━━━━━━━━━━━━\u001b[0m\u001b[37m\u001b[0m \u001b[1m0s\u001b[0m 2ms/step - accuracy: 0.8593 - loss: 0.3588 - val_accuracy: 0.8450 - val_loss: 0.3603\n",
      "Epoch 66/100\n",
      "\u001b[1m200/200\u001b[0m \u001b[32m━━━━━━━━━━━━━━━━━━━━\u001b[0m\u001b[37m\u001b[0m \u001b[1m0s\u001b[0m 2ms/step - accuracy: 0.8530 - loss: 0.3596 - val_accuracy: 0.8456 - val_loss: 0.3589\n",
      "Epoch 67/100\n",
      "\u001b[1m200/200\u001b[0m \u001b[32m━━━━━━━━━━━━━━━━━━━━\u001b[0m\u001b[37m\u001b[0m \u001b[1m0s\u001b[0m 2ms/step - accuracy: 0.8505 - loss: 0.3632 - val_accuracy: 0.8444 - val_loss: 0.3592\n",
      "Epoch 68/100\n",
      "\u001b[1m200/200\u001b[0m \u001b[32m━━━━━━━━━━━━━━━━━━━━\u001b[0m\u001b[37m\u001b[0m \u001b[1m0s\u001b[0m 2ms/step - accuracy: 0.8613 - loss: 0.3568 - val_accuracy: 0.8475 - val_loss: 0.3585\n",
      "Epoch 69/100\n",
      "\u001b[1m200/200\u001b[0m \u001b[32m━━━━━━━━━━━━━━━━━━━━\u001b[0m\u001b[37m\u001b[0m \u001b[1m0s\u001b[0m 2ms/step - accuracy: 0.8546 - loss: 0.3551 - val_accuracy: 0.8487 - val_loss: 0.3580\n",
      "Epoch 70/100\n",
      "\u001b[1m200/200\u001b[0m \u001b[32m━━━━━━━━━━━━━━━━━━━━\u001b[0m\u001b[37m\u001b[0m \u001b[1m0s\u001b[0m 2ms/step - accuracy: 0.8591 - loss: 0.3570 - val_accuracy: 0.8450 - val_loss: 0.3580\n",
      "Epoch 71/100\n",
      "\u001b[1m200/200\u001b[0m \u001b[32m━━━━━━━━━━━━━━━━━━━━\u001b[0m\u001b[37m\u001b[0m \u001b[1m0s\u001b[0m 2ms/step - accuracy: 0.8622 - loss: 0.3508 - val_accuracy: 0.8462 - val_loss: 0.3573\n",
      "Epoch 72/100\n",
      "\u001b[1m200/200\u001b[0m \u001b[32m━━━━━━━━━━━━━━━━━━━━\u001b[0m\u001b[37m\u001b[0m \u001b[1m0s\u001b[0m 2ms/step - accuracy: 0.8550 - loss: 0.3585 - val_accuracy: 0.8431 - val_loss: 0.3585\n",
      "Epoch 73/100\n",
      "\u001b[1m200/200\u001b[0m \u001b[32m━━━━━━━━━━━━━━━━━━━━\u001b[0m\u001b[37m\u001b[0m \u001b[1m0s\u001b[0m 2ms/step - accuracy: 0.8550 - loss: 0.3596 - val_accuracy: 0.8487 - val_loss: 0.3577\n",
      "Epoch 74/100\n",
      "\u001b[1m200/200\u001b[0m \u001b[32m━━━━━━━━━━━━━━━━━━━━\u001b[0m\u001b[37m\u001b[0m \u001b[1m0s\u001b[0m 2ms/step - accuracy: 0.8520 - loss: 0.3588 - val_accuracy: 0.8438 - val_loss: 0.3580\n",
      "Epoch 75/100\n",
      "\u001b[1m200/200\u001b[0m \u001b[32m━━━━━━━━━━━━━━━━━━━━\u001b[0m\u001b[37m\u001b[0m \u001b[1m0s\u001b[0m 2ms/step - accuracy: 0.8660 - loss: 0.3481 - val_accuracy: 0.8462 - val_loss: 0.3568\n",
      "Epoch 76/100\n",
      "\u001b[1m200/200\u001b[0m \u001b[32m━━━━━━━━━━━━━━━━━━━━\u001b[0m\u001b[37m\u001b[0m \u001b[1m0s\u001b[0m 2ms/step - accuracy: 0.8507 - loss: 0.3664 - val_accuracy: 0.8450 - val_loss: 0.3572\n",
      "Epoch 77/100\n",
      "\u001b[1m200/200\u001b[0m \u001b[32m━━━━━━━━━━━━━━━━━━━━\u001b[0m\u001b[37m\u001b[0m \u001b[1m0s\u001b[0m 2ms/step - accuracy: 0.8544 - loss: 0.3533 - val_accuracy: 0.8444 - val_loss: 0.3565\n",
      "Epoch 78/100\n",
      "\u001b[1m200/200\u001b[0m \u001b[32m━━━━━━━━━━━━━━━━━━━━\u001b[0m\u001b[37m\u001b[0m \u001b[1m0s\u001b[0m 2ms/step - accuracy: 0.8546 - loss: 0.3645 - val_accuracy: 0.8450 - val_loss: 0.3566\n",
      "Epoch 79/100\n",
      "\u001b[1m200/200\u001b[0m \u001b[32m━━━━━━━━━━━━━━━━━━━━\u001b[0m\u001b[37m\u001b[0m \u001b[1m0s\u001b[0m 1ms/step - accuracy: 0.8534 - loss: 0.3691 - val_accuracy: 0.8431 - val_loss: 0.3566\n",
      "Epoch 80/100\n",
      "\u001b[1m200/200\u001b[0m \u001b[32m━━━━━━━━━━━━━━━━━━━━\u001b[0m\u001b[37m\u001b[0m \u001b[1m0s\u001b[0m 2ms/step - accuracy: 0.8548 - loss: 0.3589 - val_accuracy: 0.8481 - val_loss: 0.3559\n",
      "Epoch 81/100\n",
      "\u001b[1m200/200\u001b[0m \u001b[32m━━━━━━━━━━━━━━━━━━━━\u001b[0m\u001b[37m\u001b[0m \u001b[1m0s\u001b[0m 2ms/step - accuracy: 0.8553 - loss: 0.3623 - val_accuracy: 0.8481 - val_loss: 0.3558\n",
      "Epoch 82/100\n",
      "\u001b[1m200/200\u001b[0m \u001b[32m━━━━━━━━━━━━━━━━━━━━\u001b[0m\u001b[37m\u001b[0m \u001b[1m0s\u001b[0m 2ms/step - accuracy: 0.8613 - loss: 0.3568 - val_accuracy: 0.8450 - val_loss: 0.3553\n",
      "Epoch 83/100\n",
      "\u001b[1m200/200\u001b[0m \u001b[32m━━━━━━━━━━━━━━━━━━━━\u001b[0m\u001b[37m\u001b[0m \u001b[1m0s\u001b[0m 2ms/step - accuracy: 0.8550 - loss: 0.3610 - val_accuracy: 0.8462 - val_loss: 0.3568\n",
      "Epoch 84/100\n",
      "\u001b[1m200/200\u001b[0m \u001b[32m━━━━━━━━━━━━━━━━━━━━\u001b[0m\u001b[37m\u001b[0m \u001b[1m0s\u001b[0m 2ms/step - accuracy: 0.8514 - loss: 0.3527 - val_accuracy: 0.8469 - val_loss: 0.3560\n",
      "Epoch 85/100\n",
      "\u001b[1m200/200\u001b[0m \u001b[32m━━━━━━━━━━━━━━━━━━━━\u001b[0m\u001b[37m\u001b[0m \u001b[1m0s\u001b[0m 2ms/step - accuracy: 0.8534 - loss: 0.3575 - val_accuracy: 0.8469 - val_loss: 0.3552\n",
      "Epoch 86/100\n",
      "\u001b[1m200/200\u001b[0m \u001b[32m━━━━━━━━━━━━━━━━━━━━\u001b[0m\u001b[37m\u001b[0m \u001b[1m0s\u001b[0m 2ms/step - accuracy: 0.8530 - loss: 0.3616 - val_accuracy: 0.8481 - val_loss: 0.3548\n",
      "Epoch 87/100\n",
      "\u001b[1m200/200\u001b[0m \u001b[32m━━━━━━━━━━━━━━━━━━━━\u001b[0m\u001b[37m\u001b[0m \u001b[1m1s\u001b[0m 2ms/step - accuracy: 0.8592 - loss: 0.3430 - val_accuracy: 0.8475 - val_loss: 0.3551\n",
      "Epoch 88/100\n",
      "\u001b[1m200/200\u001b[0m \u001b[32m━━━━━━━━━━━━━━━━━━━━\u001b[0m\u001b[37m\u001b[0m \u001b[1m0s\u001b[0m 2ms/step - accuracy: 0.8559 - loss: 0.3677 - val_accuracy: 0.8494 - val_loss: 0.3544\n",
      "Epoch 89/100\n",
      "\u001b[1m200/200\u001b[0m \u001b[32m━━━━━━━━━━━━━━━━━━━━\u001b[0m\u001b[37m\u001b[0m \u001b[1m0s\u001b[0m 2ms/step - accuracy: 0.8565 - loss: 0.3557 - val_accuracy: 0.8475 - val_loss: 0.3547\n",
      "Epoch 90/100\n",
      "\u001b[1m200/200\u001b[0m \u001b[32m━━━━━━━━━━━━━━━━━━━━\u001b[0m\u001b[37m\u001b[0m \u001b[1m0s\u001b[0m 2ms/step - accuracy: 0.8623 - loss: 0.3415 - val_accuracy: 0.8462 - val_loss: 0.3560\n",
      "Epoch 91/100\n",
      "\u001b[1m200/200\u001b[0m \u001b[32m━━━━━━━━━━━━━━━━━━━━\u001b[0m\u001b[37m\u001b[0m \u001b[1m0s\u001b[0m 2ms/step - accuracy: 0.8525 - loss: 0.3622 - val_accuracy: 0.8462 - val_loss: 0.3546\n",
      "Epoch 92/100\n",
      "\u001b[1m200/200\u001b[0m \u001b[32m━━━━━━━━━━━━━━━━━━━━\u001b[0m\u001b[37m\u001b[0m \u001b[1m0s\u001b[0m 2ms/step - accuracy: 0.8540 - loss: 0.3605 - val_accuracy: 0.8475 - val_loss: 0.3549\n",
      "Epoch 93/100\n",
      "\u001b[1m200/200\u001b[0m \u001b[32m━━━━━━━━━━━━━━━━━━━━\u001b[0m\u001b[37m\u001b[0m \u001b[1m0s\u001b[0m 2ms/step - accuracy: 0.8591 - loss: 0.3566 - val_accuracy: 0.8494 - val_loss: 0.3538\n",
      "Epoch 94/100\n",
      "\u001b[1m200/200\u001b[0m \u001b[32m━━━━━━━━━━━━━━━━━━━━\u001b[0m\u001b[37m\u001b[0m \u001b[1m0s\u001b[0m 2ms/step - accuracy: 0.8594 - loss: 0.3565 - val_accuracy: 0.8475 - val_loss: 0.3536\n",
      "Epoch 95/100\n",
      "\u001b[1m200/200\u001b[0m \u001b[32m━━━━━━━━━━━━━━━━━━━━\u001b[0m\u001b[37m\u001b[0m \u001b[1m0s\u001b[0m 2ms/step - accuracy: 0.8603 - loss: 0.3461 - val_accuracy: 0.8475 - val_loss: 0.3536\n",
      "Epoch 96/100\n",
      "\u001b[1m200/200\u001b[0m \u001b[32m━━━━━━━━━━━━━━━━━━━━\u001b[0m\u001b[37m\u001b[0m \u001b[1m0s\u001b[0m 2ms/step - accuracy: 0.8560 - loss: 0.3660 - val_accuracy: 0.8469 - val_loss: 0.3541\n",
      "Epoch 97/100\n",
      "\u001b[1m200/200\u001b[0m \u001b[32m━━━━━━━━━━━━━━━━━━━━\u001b[0m\u001b[37m\u001b[0m \u001b[1m0s\u001b[0m 2ms/step - accuracy: 0.8564 - loss: 0.3532 - val_accuracy: 0.8481 - val_loss: 0.3538\n",
      "Epoch 98/100\n",
      "\u001b[1m200/200\u001b[0m \u001b[32m━━━━━━━━━━━━━━━━━━━━\u001b[0m\u001b[37m\u001b[0m \u001b[1m0s\u001b[0m 2ms/step - accuracy: 0.8592 - loss: 0.3606 - val_accuracy: 0.8462 - val_loss: 0.3548\n",
      "Epoch 99/100\n",
      "\u001b[1m200/200\u001b[0m \u001b[32m━━━━━━━━━━━━━━━━━━━━\u001b[0m\u001b[37m\u001b[0m \u001b[1m0s\u001b[0m 2ms/step - accuracy: 0.8636 - loss: 0.3416 - val_accuracy: 0.8519 - val_loss: 0.3526\n",
      "Epoch 100/100\n",
      "\u001b[1m200/200\u001b[0m \u001b[32m━━━━━━━━━━━━━━━━━━━━\u001b[0m\u001b[37m\u001b[0m \u001b[1m0s\u001b[0m 2ms/step - accuracy: 0.8630 - loss: 0.3521 - val_accuracy: 0.8456 - val_loss: 0.3536\n"
     ]
    }
   ],
   "source": [
    "mew=model.fit(X_train_scaled,y_train,epochs=100,validation_split=0.2)"
   ]
  },
  {
   "cell_type": "code",
   "execution_count": 26,
   "id": "1c91325e",
   "metadata": {
    "execution": {
     "iopub.execute_input": "2024-08-11T12:20:01.484073Z",
     "iopub.status.busy": "2024-08-11T12:20:01.482822Z",
     "iopub.status.idle": "2024-08-11T12:20:01.495447Z",
     "shell.execute_reply": "2024-08-11T12:20:01.494098Z"
    },
    "papermill": {
     "duration": 0.074673,
     "end_time": "2024-08-11T12:20:01.497950",
     "exception": false,
     "start_time": "2024-08-11T12:20:01.423277",
     "status": "completed"
    },
    "tags": []
   },
   "outputs": [
    {
     "data": {
      "text/plain": [
       "[array([[-0.14252456, -0.03258888,  0.15033728],\n",
       "        [ 0.16745856, -0.28320763, -1.4546882 ],\n",
       "        [ 0.14602749, -0.00299428, -0.1199256 ],\n",
       "        [-0.63740677, -0.6659627 , -0.12690271],\n",
       "        [-1.0117831 , -2.001994  , -0.67333204],\n",
       "        [ 0.0899214 , -0.00992294, -0.05095392],\n",
       "        [ 0.8801565 , -0.10077588, -0.5824754 ],\n",
       "        [ 0.0193702 ,  0.06009466,  0.01796628],\n",
       "        [ 0.05511784,  0.31012583,  0.04854481],\n",
       "        [ 0.06005839, -0.07741371, -0.20080851],\n",
       "        [ 0.3216184 ,  0.13540511,  0.06976798]], dtype=float32),\n",
       " array([2.1165912, 0.5985794, 1.7986928], dtype=float32)]"
      ]
     },
     "execution_count": 26,
     "metadata": {},
     "output_type": "execute_result"
    }
   ],
   "source": [
    "model.layers[0].get_weights()"
   ]
  },
  {
   "cell_type": "code",
   "execution_count": 27,
   "id": "6dc12a37",
   "metadata": {
    "execution": {
     "iopub.execute_input": "2024-08-11T12:20:01.619277Z",
     "iopub.status.busy": "2024-08-11T12:20:01.618786Z",
     "iopub.status.idle": "2024-08-11T12:20:01.629244Z",
     "shell.execute_reply": "2024-08-11T12:20:01.628031Z"
    },
    "papermill": {
     "duration": 0.072004,
     "end_time": "2024-08-11T12:20:01.631936",
     "exception": false,
     "start_time": "2024-08-11T12:20:01.559932",
     "status": "completed"
    },
    "tags": []
   },
   "outputs": [
    {
     "data": {
      "text/plain": [
       "[array([[-1.1387719],\n",
       "        [ 1.8449156],\n",
       "        [-1.268672 ]], dtype=float32),\n",
       " array([0.92567575], dtype=float32)]"
      ]
     },
     "execution_count": 27,
     "metadata": {},
     "output_type": "execute_result"
    }
   ],
   "source": [
    "model.layers[1].get_weights()"
   ]
  },
  {
   "cell_type": "code",
   "execution_count": 28,
   "id": "9618061c",
   "metadata": {
    "execution": {
     "iopub.execute_input": "2024-08-11T12:20:01.758676Z",
     "iopub.status.busy": "2024-08-11T12:20:01.758288Z",
     "iopub.status.idle": "2024-08-11T12:20:01.999771Z",
     "shell.execute_reply": "2024-08-11T12:20:01.998468Z"
    },
    "papermill": {
     "duration": 0.305124,
     "end_time": "2024-08-11T12:20:02.002580",
     "exception": false,
     "start_time": "2024-08-11T12:20:01.697456",
     "status": "completed"
    },
    "tags": []
   },
   "outputs": [
    {
     "name": "stdout",
     "output_type": "stream",
     "text": [
      "\u001b[1m63/63\u001b[0m \u001b[32m━━━━━━━━━━━━━━━━━━━━\u001b[0m\u001b[37m\u001b[0m \u001b[1m0s\u001b[0m 2ms/step\n"
     ]
    }
   ],
   "source": [
    "y_mew=model.predict(X_test_scaled)"
   ]
  },
  {
   "cell_type": "code",
   "execution_count": 29,
   "id": "80abc8cb",
   "metadata": {
    "execution": {
     "iopub.execute_input": "2024-08-11T12:20:02.123037Z",
     "iopub.status.busy": "2024-08-11T12:20:02.122623Z",
     "iopub.status.idle": "2024-08-11T12:20:02.129982Z",
     "shell.execute_reply": "2024-08-11T12:20:02.128776Z"
    },
    "papermill": {
     "duration": 0.070822,
     "end_time": "2024-08-11T12:20:02.132202",
     "exception": false,
     "start_time": "2024-08-11T12:20:02.061380",
     "status": "completed"
    },
    "tags": []
   },
   "outputs": [
    {
     "data": {
      "text/plain": [
       "array([[0.05236682],\n",
       "       [0.10704505],\n",
       "       [0.08086182],\n",
       "       ...,\n",
       "       [0.01363414],\n",
       "       [0.03406988],\n",
       "       [0.45789787]], dtype=float32)"
      ]
     },
     "execution_count": 29,
     "metadata": {},
     "output_type": "execute_result"
    }
   ],
   "source": [
    "y_mew"
   ]
  },
  {
   "cell_type": "code",
   "execution_count": 30,
   "id": "f2b9aa88",
   "metadata": {
    "execution": {
     "iopub.execute_input": "2024-08-11T12:20:02.252179Z",
     "iopub.status.busy": "2024-08-11T12:20:02.251672Z",
     "iopub.status.idle": "2024-08-11T12:20:02.257046Z",
     "shell.execute_reply": "2024-08-11T12:20:02.256012Z"
    },
    "papermill": {
     "duration": 0.067023,
     "end_time": "2024-08-11T12:20:02.259473",
     "exception": false,
     "start_time": "2024-08-11T12:20:02.192450",
     "status": "completed"
    },
    "tags": []
   },
   "outputs": [],
   "source": [
    "# let the thereshold be 0.5 \n",
    "y_pred=np.where(y_mew>0.5,1,0)"
   ]
  },
  {
   "cell_type": "code",
   "execution_count": 31,
   "id": "768fa8c8",
   "metadata": {
    "execution": {
     "iopub.execute_input": "2024-08-11T12:20:02.378473Z",
     "iopub.status.busy": "2024-08-11T12:20:02.378076Z",
     "iopub.status.idle": "2024-08-11T12:20:02.385912Z",
     "shell.execute_reply": "2024-08-11T12:20:02.384759Z"
    },
    "papermill": {
     "duration": 0.070692,
     "end_time": "2024-08-11T12:20:02.388606",
     "exception": false,
     "start_time": "2024-08-11T12:20:02.317914",
     "status": "completed"
    },
    "tags": []
   },
   "outputs": [
    {
     "data": {
      "text/plain": [
       "array([[0],\n",
       "       [0],\n",
       "       [0],\n",
       "       ...,\n",
       "       [0],\n",
       "       [0],\n",
       "       [0]])"
      ]
     },
     "execution_count": 31,
     "metadata": {},
     "output_type": "execute_result"
    }
   ],
   "source": [
    "y_pred"
   ]
  },
  {
   "cell_type": "code",
   "execution_count": 32,
   "id": "381cc2e7",
   "metadata": {
    "execution": {
     "iopub.execute_input": "2024-08-11T12:20:02.507094Z",
     "iopub.status.busy": "2024-08-11T12:20:02.506656Z",
     "iopub.status.idle": "2024-08-11T12:20:02.516877Z",
     "shell.execute_reply": "2024-08-11T12:20:02.515475Z"
    },
    "papermill": {
     "duration": 0.072832,
     "end_time": "2024-08-11T12:20:02.519705",
     "exception": false,
     "start_time": "2024-08-11T12:20:02.446873",
     "status": "completed"
    },
    "tags": []
   },
   "outputs": [
    {
     "data": {
      "text/plain": [
       "0.8555"
      ]
     },
     "execution_count": 32,
     "metadata": {},
     "output_type": "execute_result"
    }
   ],
   "source": [
    "from sklearn.metrics import accuracy_score\n",
    "accuracy_score(y_test,y_pred)"
   ]
  },
  {
   "cell_type": "markdown",
   "id": "2d74dcc3",
   "metadata": {
    "execution": {
     "iopub.execute_input": "2024-08-11T12:11:49.832522Z",
     "iopub.status.busy": "2024-08-11T12:11:49.831332Z",
     "iopub.status.idle": "2024-08-11T12:11:49.837724Z",
     "shell.execute_reply": "2024-08-11T12:11:49.836344Z",
     "shell.execute_reply.started": "2024-08-11T12:11:49.832478Z"
    },
    "papermill": {
     "duration": 0.057453,
     "end_time": "2024-08-11T12:20:02.636014",
     "exception": false,
     "start_time": "2024-08-11T12:20:02.578561",
     "status": "completed"
    },
    "tags": []
   },
   "source": [
    "# Plots"
   ]
  },
  {
   "cell_type": "code",
   "execution_count": 33,
   "id": "6ab6fe6a",
   "metadata": {
    "execution": {
     "iopub.execute_input": "2024-08-11T12:20:02.756322Z",
     "iopub.status.busy": "2024-08-11T12:20:02.755366Z",
     "iopub.status.idle": "2024-08-11T12:20:02.767458Z",
     "shell.execute_reply": "2024-08-11T12:20:02.766230Z"
    },
    "papermill": {
     "duration": 0.074538,
     "end_time": "2024-08-11T12:20:02.769860",
     "exception": false,
     "start_time": "2024-08-11T12:20:02.695322",
     "status": "completed"
    },
    "tags": []
   },
   "outputs": [
    {
     "data": {
      "text/plain": [
       "{'accuracy': [0.5545312762260437,\n",
       "  0.7364062666893005,\n",
       "  0.7914062738418579,\n",
       "  0.7979687452316284,\n",
       "  0.7978125214576721,\n",
       "  0.7990624904632568,\n",
       "  0.8006250262260437,\n",
       "  0.801562488079071,\n",
       "  0.8020312786102295,\n",
       "  0.8045312762260437,\n",
       "  0.8070312738418579,\n",
       "  0.8104687333106995,\n",
       "  0.8137500286102295,\n",
       "  0.81640625,\n",
       "  0.8189062476158142,\n",
       "  0.8207812309265137,\n",
       "  0.8228124976158142,\n",
       "  0.8239062428474426,\n",
       "  0.8248437643051147,\n",
       "  0.8259375095367432,\n",
       "  0.8282812237739563,\n",
       "  0.828125,\n",
       "  0.8271874785423279,\n",
       "  0.828125,\n",
       "  0.8287500143051147,\n",
       "  0.8299999833106995,\n",
       "  0.8301562666893005,\n",
       "  0.831250011920929,\n",
       "  0.8314062356948853,\n",
       "  0.8324999809265137,\n",
       "  0.832812488079071,\n",
       "  0.83203125,\n",
       "  0.832812488079071,\n",
       "  0.8310937285423279,\n",
       "  0.8326562643051147,\n",
       "  0.8315625190734863,\n",
       "  0.8309375047683716,\n",
       "  0.832812488079071,\n",
       "  0.8324999809265137,\n",
       "  0.8323437571525574,\n",
       "  0.8314062356948853,\n",
       "  0.8310937285423279,\n",
       "  0.8314062356948853,\n",
       "  0.8321874737739563,\n",
       "  0.8326562643051147,\n",
       "  0.8326562643051147,\n",
       "  0.8321874737739563,\n",
       "  0.8349999785423279,\n",
       "  0.8454687595367432,\n",
       "  0.848437488079071,\n",
       "  0.8485937714576721,\n",
       "  0.8496875166893005,\n",
       "  0.8500000238418579,\n",
       "  0.8512499928474426,\n",
       "  0.8500000238418579,\n",
       "  0.8518750071525574,\n",
       "  0.8521875143051147,\n",
       "  0.8521875143051147,\n",
       "  0.8509374856948853,\n",
       "  0.8528125286102295,\n",
       "  0.8526562452316284,\n",
       "  0.8520312309265137,\n",
       "  0.8517187237739563,\n",
       "  0.8531249761581421,\n",
       "  0.8540624976158142,\n",
       "  0.8534374833106995,\n",
       "  0.8543750047683716,\n",
       "  0.854687511920929,\n",
       "  0.8539062738418579,\n",
       "  0.8550000190734863,\n",
       "  0.8548437356948853,\n",
       "  0.8568750023841858,\n",
       "  0.8559374809265137,\n",
       "  0.8531249761581421,\n",
       "  0.8556249737739563,\n",
       "  0.8556249737739563,\n",
       "  0.8559374809265137,\n",
       "  0.8556249737739563,\n",
       "  0.8567187786102295,\n",
       "  0.8568750023841858,\n",
       "  0.85546875,\n",
       "  0.8560937643051147,\n",
       "  0.8560937643051147,\n",
       "  0.8540624976158142,\n",
       "  0.8568750023841858,\n",
       "  0.856249988079071,\n",
       "  0.8567187786102295,\n",
       "  0.8560937643051147,\n",
       "  0.8557812571525574,\n",
       "  0.8565624952316284,\n",
       "  0.8565624952316284,\n",
       "  0.8573437333106995,\n",
       "  0.8564062714576721,\n",
       "  0.8565624952316284,\n",
       "  0.856249988079071,\n",
       "  0.8576562404632568,\n",
       "  0.8570312261581421,\n",
       "  0.8578125238418579,\n",
       "  0.856249988079071,\n",
       "  0.8579687476158142],\n",
       " 'loss': [0.7555198073387146,\n",
       "  0.6005160808563232,\n",
       "  0.519646406173706,\n",
       "  0.48165062069892883,\n",
       "  0.46398866176605225,\n",
       "  0.4539007246494293,\n",
       "  0.4469795227050781,\n",
       "  0.44172778725624084,\n",
       "  0.43728482723236084,\n",
       "  0.43352970480918884,\n",
       "  0.43008890748023987,\n",
       "  0.42674922943115234,\n",
       "  0.4233994781970978,\n",
       "  0.42004069685935974,\n",
       "  0.41680708527565,\n",
       "  0.4135632812976837,\n",
       "  0.41049766540527344,\n",
       "  0.40770259499549866,\n",
       "  0.40504056215286255,\n",
       "  0.40273162722587585,\n",
       "  0.40075695514678955,\n",
       "  0.3985821604728699,\n",
       "  0.3969166576862335,\n",
       "  0.3949434161186218,\n",
       "  0.39319881796836853,\n",
       "  0.39163681864738464,\n",
       "  0.3900366723537445,\n",
       "  0.388548880815506,\n",
       "  0.38712218403816223,\n",
       "  0.385895699262619,\n",
       "  0.3846238851547241,\n",
       "  0.3833211064338684,\n",
       "  0.3820461630821228,\n",
       "  0.38109925389289856,\n",
       "  0.380042165517807,\n",
       "  0.3790348172187805,\n",
       "  0.37814563512802124,\n",
       "  0.3772242069244385,\n",
       "  0.37611106038093567,\n",
       "  0.37551558017730713,\n",
       "  0.3747148811817169,\n",
       "  0.37379467487335205,\n",
       "  0.3733189105987549,\n",
       "  0.37279239296913147,\n",
       "  0.37184441089630127,\n",
       "  0.3713615834712982,\n",
       "  0.37082499265670776,\n",
       "  0.3702862560749054,\n",
       "  0.36974459886550903,\n",
       "  0.36921200156211853,\n",
       "  0.36849725246429443,\n",
       "  0.3683474659919739,\n",
       "  0.36766865849494934,\n",
       "  0.36715075373649597,\n",
       "  0.36682841181755066,\n",
       "  0.3661859929561615,\n",
       "  0.36589664220809937,\n",
       "  0.36518773436546326,\n",
       "  0.36497703194618225,\n",
       "  0.36450931429862976,\n",
       "  0.36401253938674927,\n",
       "  0.3638233542442322,\n",
       "  0.36343494057655334,\n",
       "  0.36290401220321655,\n",
       "  0.3626769781112671,\n",
       "  0.3621290326118469,\n",
       "  0.36174607276916504,\n",
       "  0.361404687166214,\n",
       "  0.36098164319992065,\n",
       "  0.3608981966972351,\n",
       "  0.3605773448944092,\n",
       "  0.360088050365448,\n",
       "  0.3599734902381897,\n",
       "  0.3595772683620453,\n",
       "  0.35922160744667053,\n",
       "  0.35920730233192444,\n",
       "  0.35855427384376526,\n",
       "  0.35848891735076904,\n",
       "  0.35818982124328613,\n",
       "  0.35787445306777954,\n",
       "  0.35750526189804077,\n",
       "  0.35733771324157715,\n",
       "  0.35711565613746643,\n",
       "  0.35712340474128723,\n",
       "  0.35671740770339966,\n",
       "  0.3565218448638916,\n",
       "  0.3563169836997986,\n",
       "  0.3559807538986206,\n",
       "  0.356118768453598,\n",
       "  0.35569751262664795,\n",
       "  0.3557036519050598,\n",
       "  0.3554784655570984,\n",
       "  0.35539764165878296,\n",
       "  0.3550749719142914,\n",
       "  0.3549756109714508,\n",
       "  0.3547082245349884,\n",
       "  0.3547094762325287,\n",
       "  0.3543315827846527,\n",
       "  0.3542269170284271,\n",
       "  0.3542563319206238],\n",
       " 'val_accuracy': [0.6737499833106995,\n",
       "  0.7799999713897705,\n",
       "  0.7956249713897705,\n",
       "  0.796875,\n",
       "  0.7975000143051147,\n",
       "  0.7950000166893005,\n",
       "  0.796875,\n",
       "  0.7987499833106995,\n",
       "  0.8025000095367432,\n",
       "  0.8056250214576721,\n",
       "  0.809374988079071,\n",
       "  0.8143749833106995,\n",
       "  0.815625011920929,\n",
       "  0.8162500262260437,\n",
       "  0.8174999952316284,\n",
       "  0.8181250095367432,\n",
       "  0.8187500238418579,\n",
       "  0.8218749761581421,\n",
       "  0.8237500190734863,\n",
       "  0.828125,\n",
       "  0.8299999833106995,\n",
       "  0.8331249952316284,\n",
       "  0.8331249952316284,\n",
       "  0.8318750262260437,\n",
       "  0.8331249952316284,\n",
       "  0.831250011920929,\n",
       "  0.8318750262260437,\n",
       "  0.8299999833106995,\n",
       "  0.8337500095367432,\n",
       "  0.8324999809265137,\n",
       "  0.8293750286102295,\n",
       "  0.828125,\n",
       "  0.8306249976158142,\n",
       "  0.8293750286102295,\n",
       "  0.8318750262260437,\n",
       "  0.8306249976158142,\n",
       "  0.831250011920929,\n",
       "  0.8318750262260437,\n",
       "  0.831250011920929,\n",
       "  0.8299999833106995,\n",
       "  0.8306249976158142,\n",
       "  0.8287500143051147,\n",
       "  0.8287500143051147,\n",
       "  0.8306249976158142,\n",
       "  0.831250011920929,\n",
       "  0.8318750262260437,\n",
       "  0.8287500143051147,\n",
       "  0.8456249833106995,\n",
       "  0.84375,\n",
       "  0.84375,\n",
       "  0.8481249809265137,\n",
       "  0.8431249856948853,\n",
       "  0.846875011920929,\n",
       "  0.8462499976158142,\n",
       "  0.8462499976158142,\n",
       "  0.8418750166893005,\n",
       "  0.8424999713897705,\n",
       "  0.8450000286102295,\n",
       "  0.84375,\n",
       "  0.8431249856948853,\n",
       "  0.8431249856948853,\n",
       "  0.8424999713897705,\n",
       "  0.8450000286102295,\n",
       "  0.8481249809265137,\n",
       "  0.8450000286102295,\n",
       "  0.8456249833106995,\n",
       "  0.8443750143051147,\n",
       "  0.8475000262260437,\n",
       "  0.8487499952316284,\n",
       "  0.8450000286102295,\n",
       "  0.8462499976158142,\n",
       "  0.8431249856948853,\n",
       "  0.8487499952316284,\n",
       "  0.84375,\n",
       "  0.8462499976158142,\n",
       "  0.8450000286102295,\n",
       "  0.8443750143051147,\n",
       "  0.8450000286102295,\n",
       "  0.8431249856948853,\n",
       "  0.8481249809265137,\n",
       "  0.8481249809265137,\n",
       "  0.8450000286102295,\n",
       "  0.8462499976158142,\n",
       "  0.846875011920929,\n",
       "  0.846875011920929,\n",
       "  0.8481249809265137,\n",
       "  0.8475000262260437,\n",
       "  0.8493750095367432,\n",
       "  0.8475000262260437,\n",
       "  0.8462499976158142,\n",
       "  0.8462499976158142,\n",
       "  0.8475000262260437,\n",
       "  0.8493750095367432,\n",
       "  0.8475000262260437,\n",
       "  0.8475000262260437,\n",
       "  0.846875011920929,\n",
       "  0.8481249809265137,\n",
       "  0.8462499976158142,\n",
       "  0.8518750071525574,\n",
       "  0.8456249833106995],\n",
       " 'val_loss': [0.6527126431465149,\n",
       "  0.5459428429603577,\n",
       "  0.4919220209121704,\n",
       "  0.4694313108921051,\n",
       "  0.45760416984558105,\n",
       "  0.44975876808166504,\n",
       "  0.44392094016075134,\n",
       "  0.4393843710422516,\n",
       "  0.4350241720676422,\n",
       "  0.43111538887023926,\n",
       "  0.42714959383010864,\n",
       "  0.423380583524704,\n",
       "  0.4194103479385376,\n",
       "  0.4152686595916748,\n",
       "  0.4124697148799896,\n",
       "  0.40914496779441833,\n",
       "  0.40617093443870544,\n",
       "  0.40316006541252136,\n",
       "  0.40064066648483276,\n",
       "  0.3982517123222351,\n",
       "  0.39622384309768677,\n",
       "  0.39398178458213806,\n",
       "  0.39181026816368103,\n",
       "  0.3904942274093628,\n",
       "  0.38878411054611206,\n",
       "  0.38715168833732605,\n",
       "  0.38586491346359253,\n",
       "  0.38477131724357605,\n",
       "  0.38301655650138855,\n",
       "  0.3813883662223816,\n",
       "  0.3805229663848877,\n",
       "  0.3791902959346771,\n",
       "  0.37825751304626465,\n",
       "  0.37731727957725525,\n",
       "  0.37595948576927185,\n",
       "  0.3749920129776001,\n",
       "  0.37412697076797485,\n",
       "  0.3730771541595459,\n",
       "  0.37229764461517334,\n",
       "  0.37161433696746826,\n",
       "  0.37076202034950256,\n",
       "  0.3706563115119934,\n",
       "  0.3700610399246216,\n",
       "  0.3685424029827118,\n",
       "  0.3683421313762665,\n",
       "  0.3674081563949585,\n",
       "  0.3672153353691101,\n",
       "  0.36649829149246216,\n",
       "  0.3663470447063446,\n",
       "  0.36546385288238525,\n",
       "  0.36470744013786316,\n",
       "  0.3645244240760803,\n",
       "  0.3637005686759949,\n",
       "  0.36293846368789673,\n",
       "  0.3629455864429474,\n",
       "  0.3632510304450989,\n",
       "  0.3621663749217987,\n",
       "  0.3618887662887573,\n",
       "  0.3614739179611206,\n",
       "  0.36149436235427856,\n",
       "  0.36084988713264465,\n",
       "  0.360588937997818,\n",
       "  0.3600293695926666,\n",
       "  0.3589842915534973,\n",
       "  0.3602840304374695,\n",
       "  0.35894906520843506,\n",
       "  0.35916340351104736,\n",
       "  0.35849297046661377,\n",
       "  0.3580402731895447,\n",
       "  0.35795533657073975,\n",
       "  0.3573440611362457,\n",
       "  0.3585250973701477,\n",
       "  0.35767996311187744,\n",
       "  0.35802966356277466,\n",
       "  0.35681629180908203,\n",
       "  0.35721108317375183,\n",
       "  0.35652491450309753,\n",
       "  0.3565576672554016,\n",
       "  0.3566093146800995,\n",
       "  0.35585930943489075,\n",
       "  0.3557993769645691,\n",
       "  0.3553031086921692,\n",
       "  0.3568497598171234,\n",
       "  0.35599446296691895,\n",
       "  0.3551934063434601,\n",
       "  0.3547893762588501,\n",
       "  0.35514700412750244,\n",
       "  0.35435107350349426,\n",
       "  0.3546520173549652,\n",
       "  0.3560221195220947,\n",
       "  0.35461387038230896,\n",
       "  0.35485175251960754,\n",
       "  0.35376858711242676,\n",
       "  0.35356009006500244,\n",
       "  0.3535575568675995,\n",
       "  0.3540686070919037,\n",
       "  0.35380133986473083,\n",
       "  0.35479119420051575,\n",
       "  0.35264095664024353,\n",
       "  0.35361140966415405]}"
      ]
     },
     "execution_count": 33,
     "metadata": {},
     "output_type": "execute_result"
    }
   ],
   "source": [
    "mew.history"
   ]
  },
  {
   "cell_type": "code",
   "execution_count": 34,
   "id": "c39603cf",
   "metadata": {
    "execution": {
     "iopub.execute_input": "2024-08-11T12:20:02.889712Z",
     "iopub.status.busy": "2024-08-11T12:20:02.889328Z",
     "iopub.status.idle": "2024-08-11T12:20:03.172637Z",
     "shell.execute_reply": "2024-08-11T12:20:03.171480Z"
    },
    "papermill": {
     "duration": 0.346553,
     "end_time": "2024-08-11T12:20:03.175074",
     "exception": false,
     "start_time": "2024-08-11T12:20:02.828521",
     "status": "completed"
    },
    "tags": []
   },
   "outputs": [
    {
     "data": {
      "text/plain": [
       "[<matplotlib.lines.Line2D at 0x7f7cd4245e10>]"
      ]
     },
     "execution_count": 34,
     "metadata": {},
     "output_type": "execute_result"
    },
    {
     "data": {
      "image/png": "[encoded data removed]",
      "text/plain": [
       "<Figure size 640x480 with 1 Axes>"
      ]
     },
     "metadata": {},
     "output_type": "display_data"
    }
   ],
   "source": [
    "plt.plot(mew.history['loss'])\n",
    "plt.plot(mew.history['val_loss'])"
   ]
  },
  {
   "cell_type": "code",
   "execution_count": 35,
   "id": "43bb26a1",
   "metadata": {
    "execution": {
     "iopub.execute_input": "2024-08-11T12:20:03.296118Z",
     "iopub.status.busy": "2024-08-11T12:20:03.295726Z",
     "iopub.status.idle": "2024-08-11T12:20:03.533236Z",
     "shell.execute_reply": "2024-08-11T12:20:03.532183Z"
    },
    "papermill": {
     "duration": 0.300829,
     "end_time": "2024-08-11T12:20:03.535517",
     "exception": false,
     "start_time": "2024-08-11T12:20:03.234688",
     "status": "completed"
    },
    "tags": []
   },
   "outputs": [
    {
     "data": {
      "text/plain": [
       "[<matplotlib.lines.Line2D at 0x7f7cd41160b0>]"
      ]
     },
     "execution_count": 35,
     "metadata": {},
     "output_type": "execute_result"
    },
    {
     "data": {
      "image/png": "[encoded data removed]",
      "text/plain": [
       "<Figure size 640x480 with 1 Axes>"
      ]
     },
     "metadata": {},
     "output_type": "display_data"
    }
   ],
   "source": [
    "plt.plot(mew.history['accuracy'])\n",
    "plt.plot(mew.history['val_accuracy'])"
   ]
  },
  {
   "cell_type": "code",
   "execution_count": null,
   "id": "3fa66abf",
   "metadata": {
    "papermill": {
     "duration": 0.05918,
     "end_time": "2024-08-11T12:20:03.655459",
     "exception": false,
     "start_time": "2024-08-11T12:20:03.596279",
     "status": "completed"
    },
    "tags": []
   },
   "outputs": [],
   "source": []
  },
  {
   "cell_type": "code",
   "execution_count": null,
   "id": "603537ab",
   "metadata": {
    "papermill": {
     "duration": 0.059096,
     "end_time": "2024-08-11T12:20:03.775803",
     "exception": false,
     "start_time": "2024-08-11T12:20:03.716707",
     "status": "completed"
    },
    "tags": []
   },
   "outputs": [],
   "source": []
  },
  {
   "cell_type": "code",
   "execution_count": null,
   "id": "55c39f77",
   "metadata": {
    "papermill": {
     "duration": 0.059209,
     "end_time": "2024-08-11T12:20:03.894326",
     "exception": false,
     "start_time": "2024-08-11T12:20:03.835117",
     "status": "completed"
    },
    "tags": []
   },
   "outputs": [],
   "source": []
  }
 ],
 "metadata": {
  "kaggle": {
   "accelerator": "none",
   "dataSources": [
    {
     "datasetId": 869651,
     "sourceId": 1481789,
     "sourceType": "datasetVersion"
    }
   ],
   "dockerImageVersionId": 30746,
   "isGpuEnabled": false,
   "isInternetEnabled": true,
   "language": "python",
   "sourceType": "notebook"
  },
  "kernelspec": {
   "display_name": "Python 3",
   "language": "python",
   "name": "python3"
  },
  "language_info": {
   "codemirror_mode": {
    "name": "ipython",
    "version": 3
   },
   "file_extension": ".py",
   "mimetype": "text/x-python",
   "name": "python",
   "nbconvert_exporter": "python",
   "pygments_lexer": "ipython3",
   "version": "3.10.13"
  },
  "papermill": {
   "default_parameters": {},
   "duration": 58.764279,
   "end_time": "2024-08-11T12:20:05.580410",
   "environment_variables": {},
   "exception": null,
   "input_path": "__notebook__.ipynb",
   "output_path": "__notebook__.ipynb",
   "parameters": {},
   "start_time": "2024-08-11T12:19:06.816131",
   "version": "2.5.0"
  }
 },
 "nbformat": 4,
 "nbformat_minor": 5
}
