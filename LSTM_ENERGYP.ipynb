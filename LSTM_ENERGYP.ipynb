{
  "nbformat": 4,
  "nbformat_minor": 0,
  "metadata": {
    "colab": {
      "provenance": [],
      "gpuType": "T4"
    },
    "kernelspec": {
      "name": "python3",
      "display_name": "Python 3"
    },
    "language_info": {
      "name": "python"
    },
    "accelerator": "GPU"
  },
  "cells": [
    {
      "cell_type": "code",
      "execution_count": null,
      "metadata": {
        "id": "jDfAhKtjKKLR"
      },
      "outputs": [],
      "source": [
        "import pandas as pd\n",
        "import numpy as np\n",
        "import matplotlib.pyplot as plt\n",
        "import seaborn as sns\n",
        "from sklearn.preprocessing import StandardScaler\n",
        "from sklearn.model_selection import train_test_split\n",
        "from sklearn.linear_model import LinearRegression\n",
        "from sklearn.metrics import mean_squared_error, r2_score\n",
        "from sklearn.preprocessing import MinMaxScaler"
      ]
    },
    {
      "cell_type": "code",
      "source": [
        "data=pd.read_csv(\"/content/historic_demand_2009_2024.csv\",parse_dates=[1])"
      ],
      "metadata": {
        "id": "3ktmxcJgKiW_"
      },
      "execution_count": null,
      "outputs": []
    },
    {
      "cell_type": "code",
      "source": [
        "data.head()"
      ],
      "metadata": {
        "id": "mGwvYGT_LAJR"
      },
      "execution_count": null,
      "outputs": []
    },
    {
      "cell_type": "markdown",
      "source": [
        "Explotary Data Analysis"
      ],
      "metadata": {
        "id": "5bX604HBLMUB"
      }
    },
    {
      "cell_type": "code",
      "source": [
        "data.shape"
      ],
      "metadata": {
        "id": "CUVhiBM7LUi1"
      },
      "execution_count": null,
      "outputs": []
    },
    {
      "cell_type": "code",
      "source": [
        "data.info()"
      ],
      "metadata": {
        "id": "l06AneICLXFK"
      },
      "execution_count": null,
      "outputs": []
    },
    {
      "cell_type": "code",
      "source": [
        "data.isnull().sum()"
      ],
      "metadata": {
        "id": "YNvsVoRsLaWC"
      },
      "execution_count": null,
      "outputs": []
    },
    {
      "cell_type": "code",
      "source": [
        "data.columns"
      ],
      "metadata": {
        "id": "5TktfPoMNFQX"
      },
      "execution_count": null,
      "outputs": []
    },
    {
      "cell_type": "code",
      "source": [
        "# formatting date columns"
      ],
      "metadata": {
        "id": "w5DAEBjBU9ua"
      },
      "execution_count": null,
      "outputs": []
    },
    {
      "cell_type": "code",
      "source": [
        "data=data.rename(columns={'settlement_date':'date'})"
      ],
      "metadata": {
        "id": "S8_ox7zmVwNv"
      },
      "execution_count": null,
      "outputs": []
    },
    {
      "cell_type": "code",
      "source": [
        "data.head()"
      ],
      "metadata": {
        "id": "n2mU4MftWBx8"
      },
      "execution_count": null,
      "outputs": []
    },
    {
      "cell_type": "code",
      "source": [
        "data['date']=pd.DataFrame(data['date'])"
      ],
      "metadata": {
        "id": "r-nOmQMWSj3s"
      },
      "execution_count": null,
      "outputs": []
    },
    {
      "cell_type": "code",
      "source": [
        "data['date']=pd.to_datetime(data['date'])"
      ],
      "metadata": {
        "id": "suweANgnTIW0"
      },
      "execution_count": null,
      "outputs": []
    },
    {
      "cell_type": "code",
      "source": [
        "data['date']=data['date'].dt.date"
      ],
      "metadata": {
        "id": "9rkc8CA5OioC"
      },
      "execution_count": null,
      "outputs": []
    },
    {
      "cell_type": "code",
      "source": [
        "data.head()"
      ],
      "metadata": {
        "id": "OtFrywJTVlvi"
      },
      "execution_count": null,
      "outputs": []
    },
    {
      "cell_type": "code",
      "source": [],
      "metadata": {
        "id": "me5u5y4cohq4"
      },
      "execution_count": null,
      "outputs": []
    },
    {
      "cell_type": "code",
      "source": [
        "data1=data.groupby(['date'])[['nd', 'tsd', 'england_wales_demand','embedded_wind_generation', 'embedded_wind_capacity',\n",
        "       'embedded_solar_generation', 'embedded_solar_capacity', 'non_bm_stor',\n",
        "       'pump_storage_pumping','is_holiday']].mean()\n",
        "data.index=data['date']\n",
        "data1.asfreq('D')\n",
        "data.head()"
      ],
      "metadata": {
        "id": "NLAF9PczLfZl"
      },
      "execution_count": null,
      "outputs": []
    },
    {
      "cell_type": "code",
      "source": [
        "data1.tail(10)"
      ],
      "metadata": {
        "id": "30-UAghvNjAm"
      },
      "execution_count": null,
      "outputs": []
    },
    {
      "cell_type": "code",
      "source": [
        "data1.describe()"
      ],
      "metadata": {
        "id": "JVHjU8qZX7cw"
      },
      "execution_count": null,
      "outputs": []
    },
    {
      "cell_type": "code",
      "source": [
        "import calendar"
      ],
      "metadata": {
        "id": "vwbrNDtkX6r2"
      },
      "execution_count": null,
      "outputs": []
    },
    {
      "cell_type": "code",
      "source": [
        "lab=['National ','Transmission System ','ENGLAND_WALES']\n",
        "co=['darkviolet','tomato','darkorange']\n",
        "data.columns"
      ],
      "metadata": {
        "id": "3AneQqSoZQHd"
      },
      "execution_count": null,
      "outputs": []
    },
    {
      "cell_type": "code",
      "source": [
        "data1.head()"
      ],
      "metadata": {
        "id": "jj62k-U6n3y-"
      },
      "execution_count": null,
      "outputs": []
    },
    {
      "cell_type": "code",
      "source": [
        "data1.index=pd.to_datetime(data1.index)"
      ],
      "metadata": {
        "id": "b8_gaaxDoPRx"
      },
      "execution_count": null,
      "outputs": []
    },
    {
      "cell_type": "code",
      "source": [
        "data1.index.dtype"
      ],
      "metadata": {
        "id": "Krt8nu1gpE8Y"
      },
      "execution_count": null,
      "outputs": []
    },
    {
      "cell_type": "code",
      "source": [
        "fig,axs=plt.subplots(3,1,figsize=(30,14),sharex=False)\n",
        "for i,j,k in zip(data1.columns,range(0,3),lab):\n",
        "    sns.boxplot(data=data1,x=data1.index.month,y=i,ax=axs[j],palette='Set3',saturation=1)\n",
        "    axs[j].set_xticklabels([z for z in calendar.month_abbr[1:]],rotation=30,fontsize=15,)\n",
        "    axs[j].set_title(f'Electricity Demand: {k}',fontsize=20,fontweight='bold')\n",
        "plt.tight_layout()\n",
        "plt.show()"
      ],
      "metadata": {
        "id": "nHlI_jm9ZUIr"
      },
      "execution_count": null,
      "outputs": []
    },
    {
      "cell_type": "markdown",
      "source": [
        "we can see variation in jun jul and august are same\n"
      ],
      "metadata": {
        "id": "vlHVMjr6s4dl"
      }
    },
    {
      "cell_type": "code",
      "source": [
        "f,axs=plt.subplots(3,1,figsize=(20,12),sharex=False)\n",
        "for i,j,l,k in zip(data1.columns,[0,1,2], ['orangered','dodgerblue','violet'],lab):\n",
        "        sns.histplot(data=data1,bins=40,x=i,ax=axs[j],kde=True,stat='density',color=l)\n",
        "        axs[j].set_title(f'Electricity Demand :{k}',fontsize=20,fontweight='bold')\n",
        "plt.tight_layout()\n",
        "plt.show()"
      ],
      "metadata": {
        "id": "jrAtHwa9ZcZD"
      },
      "execution_count": null,
      "outputs": []
    },
    {
      "cell_type": "markdown",
      "source": [
        "All the distribution are right skewed"
      ],
      "metadata": {
        "id": "5uCZjzP7t42A"
      }
    },
    {
      "cell_type": "code",
      "source": [
        "fig,axs=plt.subplots(3,1,figsize=(20,10))\n",
        "ys=data1.columns       #i         #j       #k                                  #l\n",
        "for i,j,l,k in zip(data1.columns,[0,1,2], ['orangered','dodgerblue','violet'],lab):\n",
        "    sns.lineplot(data=data1,x=data1.index,y=i,ax=axs[j],label=k,color=l,linewidth=1.6)\n",
        "    axs[j].set_title(f'  Electricity Demand :  {k}',fontsize=18)\n",
        "    axs[j].set_ylabel('Mega Watts')\n",
        "plt.tight_layout()\n",
        "plt.title('Electricity Demand Line Chart')\n",
        "plt.show()"
      ],
      "metadata": {
        "id": "EhOkgcnCtqd0"
      },
      "execution_count": null,
      "outputs": []
    },
    {
      "cell_type": "markdown",
      "source": [
        "From here we can see that the demand of the electricty consumption is decreasing slightly in the last years which is the good thing for us it might be because of public awarness programs and literacy.There is presence of some seasonality and trends in the data"
      ],
      "metadata": {
        "id": "kVT6j28hvHkX"
      }
    },
    {
      "cell_type": "code",
      "source": [
        "data1['2023-01-01':][['nd','tsd','england_wales_demand']].plot(figsize=(20,5),linewidth=3,\n",
        "                                        title='Endogeneous Variables performances till now form 2023 ',cmap='brg',ylabel='MW')"
      ],
      "metadata": {
        "id": "90__SjywvIyY"
      },
      "execution_count": null,
      "outputs": []
    },
    {
      "cell_type": "markdown",
      "source": [
        "At the end of the december the the demand is high this might be due to the christmas and again in the end of the janaury it is peaking again"
      ],
      "metadata": {
        "id": "-FRaBrEKyCkX"
      }
    },
    {
      "cell_type": "code",
      "source": [
        "import tensorflow as tf\n",
        "import keras\n",
        "from tensorflow.keras.layers import Lambda, Dense, LSTM, SimpleRNN, Dropout,GRU,Bidirectional,LeakyReLU,BatchNormalization\n",
        "from tensorflow.keras.models import Sequential\n",
        "from tensorflow.keras.optimizers import SGD,Adam,Adagrad\n",
        "from tensorflow.keras.utils import plot_model\n",
        "from tensorflow.keras.callbacks import LearningRateScheduler,EarlyStopping,ModelCheckpoint\n",
        "from sklearn.preprocessing import MinMaxScaler as mms\n",
        "from sklearn.model_selection import train_test_split as tts\n",
        "from sklearn.metrics import mean_squared_error as mse\n",
        "from sklearn.metrics import mean_absolute_error as mae\n",
        "from sklearn.metrics import mean_absolute_percentage_error as mape\n",
        "from tensorflow.keras.models import load_model"
      ],
      "metadata": {
        "id": "6kkY_YoSxGcq"
      },
      "execution_count": null,
      "outputs": []
    },
    {
      "cell_type": "code",
      "source": [
        "scaler=MinMaxScaler()\n",
        "data_scaled=scaler.fit_transform(data1)"
      ],
      "metadata": {
        "id": "82mrGX7ZcA6R"
      },
      "execution_count": null,
      "outputs": []
    },
    {
      "cell_type": "code",
      "source": [
        "data_scaled"
      ],
      "metadata": {
        "id": "-c2AxT98cRM5"
      },
      "execution_count": null,
      "outputs": []
    },
    {
      "cell_type": "code",
      "source": [
        "features=data_scaled"
      ],
      "metadata": {
        "id": "V_7BRS4ybSWZ"
      },
      "execution_count": null,
      "outputs": []
    },
    {
      "cell_type": "code",
      "source": [
        "target=data_scaled[:,0]"
      ],
      "metadata": {
        "id": "jsjOxR5QcW9a"
      },
      "execution_count": null,
      "outputs": []
    },
    {
      "cell_type": "code",
      "source": [
        "from tensorflow.keras.preprocessing.sequence import TimeseriesGenerator\n"
      ],
      "metadata": {
        "id": "mAhvbg_tdQ2g"
      },
      "execution_count": null,
      "outputs": []
    },
    {
      "cell_type": "code",
      "source": [
        "TimeseriesGenerator(features,target,length=100,batch_size=100)"
      ],
      "metadata": {
        "id": "V2ddoZiDcW35"
      },
      "execution_count": null,
      "outputs": []
    },
    {
      "cell_type": "code",
      "source": [
        "x_train,x_test,y_train,y_test=train_test_split(features,target,test_size=0.2,shuffle=False)"
      ],
      "metadata": {
        "id": "cwHxIrPdcW1U"
      },
      "execution_count": null,
      "outputs": []
    },
    {
      "cell_type": "code",
      "source": [
        "x_train.shape"
      ],
      "metadata": {
        "id": "BHbCVomocWsz"
      },
      "execution_count": null,
      "outputs": []
    },
    {
      "cell_type": "code",
      "source": [
        "x_test.shape"
      ],
      "metadata": {
        "id": "D3rYinbhfMDB"
      },
      "execution_count": null,
      "outputs": []
    },
    {
      "cell_type": "code",
      "source": [
        "win_length=100\n",
        "batch_size=32\n",
        "num_feature=10\n",
        "train_gen=TimeseriesGenerator(x_train,y_train,length=win_length,batch_size=batch_size)\n",
        "test_gen=TimeseriesGenerator(x_test,y_test,length=win_length,batch_size=batch_size)"
      ],
      "metadata": {
        "id": "jjNAgysRfMBf"
      },
      "execution_count": null,
      "outputs": []
    },
    {
      "cell_type": "code",
      "source": [
        "train_gen[0]"
      ],
      "metadata": {
        "id": "XqGU2SFGfL-U"
      },
      "execution_count": null,
      "outputs": []
    },
    {
      "cell_type": "code",
      "source": [
        "model=Sequential()\n",
        "model.add(LSTM(units=128,return_sequences=True,input_shape=(win_length,num_feature)))\n",
        "model.add(LSTM(units=64,return_sequences=True,activation='relu'))\n",
        "model.add(LSTM(units=32,return_sequences=True,activation='relu'))\n",
        "model.add(LSTM(units=16,return_sequences=True,activation='relu'))\n",
        "model.add(LSTM(units=8,return_sequences=True,activation='relu'))\n",
        "model.add(Dense(128,activation='relu'))\n",
        "model.add(Dense(100,activation='relu'))\n",
        "model.add(Dense(64,activation='relu'))\n",
        "model.add(Dense(54,activation='relu'))\n",
        "model.add(Dense(28,activation='relu'))\n",
        "model.add(Dense(12,activation='relu'))\n",
        "model.add(Dense(6,activation='relu'))\n",
        "model.add(Dense(units=1,activation='linear'))\n"
      ],
      "metadata": {
        "id": "h54kIhaBgnQt"
      },
      "execution_count": null,
      "outputs": []
    },
    {
      "cell_type": "code",
      "source": [
        "model.summary()"
      ],
      "metadata": {
        "id": "YXOCQNndgnN0"
      },
      "execution_count": null,
      "outputs": []
    },
    {
      "cell_type": "code",
      "source": [
        "model.compile(loss='mean_squared_error',optimizer='adam',metrics=['mse'])"
      ],
      "metadata": {
        "id": "N770B7nFfL7d"
      },
      "execution_count": null,
      "outputs": []
    },
    {
      "cell_type": "code",
      "source": [
        "early_stopping=tf.keras.callbacks.EarlyStopping(monitor='val_loss',patience=1,mode='min')"
      ],
      "metadata": {
        "id": "b15jiwo7jSJd"
      },
      "execution_count": null,
      "outputs": []
    },
    {
      "cell_type": "code",
      "source": [
        "history=model.fit(train_gen,epochs=100,validation_data=test_gen,shuffle=False,callbacks=[early_stopping])"
      ],
      "metadata": {
        "colab": {
          "base_uri": "https://localhost:8080/"
        },
        "id": "qIh7-LcGhXz3",
        "outputId": "bc3f4ae0-f303-4f32-b21f-edcff05be335"
      },
      "execution_count": 103,
      "outputs": [
        {
          "output_type": "stream",
          "name": "stdout",
          "text": [
            "Epoch 1/100\n"
          ]
        },
        {
          "output_type": "stream",
          "name": "stderr",
          "text": [
            "/usr/local/lib/python3.10/dist-packages/keras/src/trainers/data_adapters/py_dataset_adapter.py:121: UserWarning: Your `PyDataset` class should call `super().__init__(**kwargs)` in its constructor. `**kwargs` can include `workers`, `use_multiprocessing`, `max_queue_size`. Do not pass these arguments to `fit()`, as they will be ignored.\n",
            "  self._warn_if_super_not_called()\n"
          ]
        },
        {
          "output_type": "stream",
          "name": "stdout",
          "text": [
            "\u001b[1m139/139\u001b[0m \u001b[32m━━━━━━━━━━━━━━━━━━━━\u001b[0m\u001b[37m\u001b[0m \u001b[1m71s\u001b[0m 418ms/step - loss: 0.1759 - mse: 0.1759 - val_loss: 0.0189 - val_mse: 0.0189\n",
            "Epoch 2/100\n",
            "\u001b[1m139/139\u001b[0m \u001b[32m━━━━━━━━━━━━━━━━━━━━\u001b[0m\u001b[37m\u001b[0m \u001b[1m60s\u001b[0m 428ms/step - loss: 0.0332 - mse: 0.0332 - val_loss: 0.0187 - val_mse: 0.0187\n",
            "Epoch 3/100\n",
            "\u001b[1m139/139\u001b[0m \u001b[32m━━━━━━━━━━━━━━━━━━━━\u001b[0m\u001b[37m\u001b[0m \u001b[1m76s\u001b[0m 389ms/step - loss: 0.0331 - mse: 0.0331 - val_loss: 0.0153 - val_mse: 0.0153\n",
            "Epoch 4/100\n",
            "\u001b[1m139/139\u001b[0m \u001b[32m━━━━━━━━━━━━━━━━━━━━\u001b[0m\u001b[37m\u001b[0m \u001b[1m56s\u001b[0m 403ms/step - loss: 0.0297 - mse: 0.0297 - val_loss: 0.0154 - val_mse: 0.0154\n",
            "Epoch 5/100\n",
            "\u001b[1m139/139\u001b[0m \u001b[32m━━━━━━━━━━━━━━━━━━━━\u001b[0m\u001b[37m\u001b[0m \u001b[1m52s\u001b[0m 378ms/step - loss: 0.0267 - mse: 0.0267 - val_loss: 0.0152 - val_mse: 0.0152\n",
            "Epoch 6/100\n",
            "\u001b[1m139/139\u001b[0m \u001b[32m━━━━━━━━━━━━━━━━━━━━\u001b[0m\u001b[37m\u001b[0m \u001b[1m54s\u001b[0m 392ms/step - loss: 0.0273 - mse: 0.0273 - val_loss: 0.0166 - val_mse: 0.0166\n",
            "Epoch 7/100\n",
            "\u001b[1m139/139\u001b[0m \u001b[32m━━━━━━━━━━━━━━━━━━━━\u001b[0m\u001b[37m\u001b[0m \u001b[1m60s\u001b[0m 433ms/step - loss: 0.0268 - mse: 0.0268 - val_loss: 0.0147 - val_mse: 0.0147\n",
            "Epoch 8/100\n",
            "\u001b[1m139/139\u001b[0m \u001b[32m━━━━━━━━━━━━━━━━━━━━\u001b[0m\u001b[37m\u001b[0m \u001b[1m53s\u001b[0m 385ms/step - loss: 0.0254 - mse: 0.0254 - val_loss: 0.0153 - val_mse: 0.0153\n",
            "Epoch 9/100\n",
            "\u001b[1m139/139\u001b[0m \u001b[32m━━━━━━━━━━━━━━━━━━━━\u001b[0m\u001b[37m\u001b[0m \u001b[1m54s\u001b[0m 388ms/step - loss: 0.0246 - mse: 0.0246 - val_loss: 0.0143 - val_mse: 0.0143\n",
            "Epoch 10/100\n",
            "\u001b[1m139/139\u001b[0m \u001b[32m━━━━━━━━━━━━━━━━━━━━\u001b[0m\u001b[37m\u001b[0m \u001b[1m52s\u001b[0m 375ms/step - loss: 0.0241 - mse: 0.0241 - val_loss: 0.0141 - val_mse: 0.0141\n",
            "Epoch 11/100\n",
            "\u001b[1m139/139\u001b[0m \u001b[32m━━━━━━━━━━━━━━━━━━━━\u001b[0m\u001b[37m\u001b[0m \u001b[1m55s\u001b[0m 397ms/step - loss: 0.0236 - mse: 0.0236 - val_loss: 0.0139 - val_mse: 0.0139\n",
            "Epoch 12/100\n",
            "\u001b[1m139/139\u001b[0m \u001b[32m━━━━━━━━━━━━━━━━━━━━\u001b[0m\u001b[37m\u001b[0m \u001b[1m52s\u001b[0m 374ms/step - loss: 0.0231 - mse: 0.0231 - val_loss: 0.0143 - val_mse: 0.0143\n",
            "Epoch 13/100\n",
            "\u001b[1m139/139\u001b[0m \u001b[32m━━━━━━━━━━━━━━━━━━━━\u001b[0m\u001b[37m\u001b[0m \u001b[1m53s\u001b[0m 377ms/step - loss: 0.0230 - mse: 0.0230 - val_loss: 0.0136 - val_mse: 0.0136\n",
            "Epoch 14/100\n",
            "\u001b[1m139/139\u001b[0m \u001b[32m━━━━━━━━━━━━━━━━━━━━\u001b[0m\u001b[37m\u001b[0m \u001b[1m56s\u001b[0m 400ms/step - loss: 0.0224 - mse: 0.0224 - val_loss: 0.0153 - val_mse: 0.0153\n",
            "Epoch 15/100\n",
            "\u001b[1m139/139\u001b[0m \u001b[32m━━━━━━━━━━━━━━━━━━━━\u001b[0m\u001b[37m\u001b[0m \u001b[1m55s\u001b[0m 394ms/step - loss: 0.0222 - mse: 0.0222 - val_loss: 0.0139 - val_mse: 0.0139\n",
            "Epoch 16/100\n",
            "\u001b[1m139/139\u001b[0m \u001b[32m━━━━━━━━━━━━━━━━━━━━\u001b[0m\u001b[37m\u001b[0m \u001b[1m54s\u001b[0m 387ms/step - loss: 0.0222 - mse: 0.0222 - val_loss: 0.0137 - val_mse: 0.0137\n",
            "Epoch 17/100\n",
            "\u001b[1m139/139\u001b[0m \u001b[32m━━━━━━━━━━━━━━━━━━━━\u001b[0m\u001b[37m\u001b[0m \u001b[1m52s\u001b[0m 375ms/step - loss: 0.0221 - mse: 0.0221 - val_loss: 0.0137 - val_mse: 0.0137\n",
            "Epoch 18/100\n",
            "\u001b[1m139/139\u001b[0m \u001b[32m━━━━━━━━━━━━━━━━━━━━\u001b[0m\u001b[37m\u001b[0m \u001b[1m55s\u001b[0m 396ms/step - loss: 0.0219 - mse: 0.0219 - val_loss: 0.0151 - val_mse: 0.0151\n"
          ]
        }
      ]
    },
    {
      "cell_type": "code",
      "source": [
        "model.evaluate(test_gen)"
      ],
      "metadata": {
        "colab": {
          "base_uri": "https://localhost:8080/"
        },
        "id": "vyotfTsVhXxC",
        "outputId": "811cb5b2-80e5-4af9-a045-1ea447ba6266"
      },
      "execution_count": 104,
      "outputs": [
        {
          "output_type": "stream",
          "name": "stdout",
          "text": [
            "\u001b[1m33/33\u001b[0m \u001b[32m━━━━━━━━━━━━━━━━━━━━\u001b[0m\u001b[37m\u001b[0m \u001b[1m3s\u001b[0m 96ms/step - loss: 0.0135 - mse: 0.0135\n"
          ]
        },
        {
          "output_type": "execute_result",
          "data": {
            "text/plain": [
              "[0.015091937966644764, 0.015091938897967339]"
            ]
          },
          "metadata": {},
          "execution_count": 104
        }
      ]
    },
    {
      "cell_type": "code",
      "source": [
        "prediction=model.predict(test_gen)"
      ],
      "metadata": {
        "colab": {
          "base_uri": "https://localhost:8080/"
        },
        "id": "Bix8A2DDhXut",
        "outputId": "e400abf7-228e-4a78-f1e3-27b64d4e6ba0"
      },
      "execution_count": 105,
      "outputs": [
        {
          "output_type": "stream",
          "name": "stdout",
          "text": [
            "\u001b[1m33/33\u001b[0m \u001b[32m━━━━━━━━━━━━━━━━━━━━\u001b[0m\u001b[37m\u001b[0m \u001b[1m8s\u001b[0m 174ms/step\n"
          ]
        }
      ]
    },
    {
      "cell_type": "code",
      "source": [
        "prediction.shape[0]"
      ],
      "metadata": {
        "colab": {
          "base_uri": "https://localhost:8080/"
        },
        "id": "GJubVKCxhXr-",
        "outputId": "5e2b9420-74f3-4009-9ab0-8ca558679547"
      },
      "execution_count": 106,
      "outputs": [
        {
          "output_type": "execute_result",
          "data": {
            "text/plain": [
              "1037"
            ]
          },
          "metadata": {},
          "execution_count": 106
        }
      ]
    },
    {
      "cell_type": "code",
      "source": [
        "prediction"
      ],
      "metadata": {
        "colab": {
          "base_uri": "https://localhost:8080/"
        },
        "id": "TQDjo3DNhXpE",
        "outputId": "b6722051-fe5c-4d8a-bffb-fa6527f9511f"
      },
      "execution_count": 107,
      "outputs": [
        {
          "output_type": "execute_result",
          "data": {
            "text/plain": [
              "array([[[0.4008428 ],\n",
              "        [0.40340886],\n",
              "        [0.4010173 ],\n",
              "        ...,\n",
              "        [0.34378618],\n",
              "        [0.34543777],\n",
              "        [0.347181  ]],\n",
              "\n",
              "       [[0.40078974],\n",
              "        [0.40293524],\n",
              "        [0.39919046],\n",
              "        ...,\n",
              "        [0.34543845],\n",
              "        [0.3471816 ],\n",
              "        [0.34906244]],\n",
              "\n",
              "       [[0.40048724],\n",
              "        [0.40197116],\n",
              "        [0.3974704 ],\n",
              "        ...,\n",
              "        [0.34718245],\n",
              "        [0.34906328],\n",
              "        [0.3511767 ]],\n",
              "\n",
              "       ...,\n",
              "\n",
              "       [[0.4006829 ],\n",
              "        [0.4025823 ],\n",
              "        [0.39752868],\n",
              "        ...,\n",
              "        [0.22952756],\n",
              "        [0.22782478],\n",
              "        [0.22655615]],\n",
              "\n",
              "       [[0.40046462],\n",
              "        [0.4014647 ],\n",
              "        [0.39496946],\n",
              "        ...,\n",
              "        [0.22782329],\n",
              "        [0.22655478],\n",
              "        [0.22603586]],\n",
              "\n",
              "       [[0.40022838],\n",
              "        [0.40105435],\n",
              "        [0.3949732 ],\n",
              "        ...,\n",
              "        [0.22655702],\n",
              "        [0.22603816],\n",
              "        [0.22620103]]], dtype=float32)"
            ]
          },
          "metadata": {},
          "execution_count": 107
        }
      ]
    },
    {
      "cell_type": "code",
      "source": [
        "y_test"
      ],
      "metadata": {
        "colab": {
          "base_uri": "https://localhost:8080/"
        },
        "id": "mKhPZKU2mVf4",
        "outputId": "ac8e1469-6c60-4313-d5c8-03d905af3377"
      },
      "execution_count": 108,
      "outputs": [
        {
          "output_type": "execute_result",
          "data": {
            "text/plain": [
              "array([0.30596372, 0.28842555, 0.2812006 , ..., 0.17622654, 0.15276475,\n",
              "       0.19080967])"
            ]
          },
          "metadata": {},
          "execution_count": 108
        }
      ]
    },
    {
      "cell_type": "code",
      "source": [
        "x_test"
      ],
      "metadata": {
        "colab": {
          "base_uri": "https://localhost:8080/"
        },
        "id": "ijauoDVCmU5a",
        "outputId": "19ba0d09-039f-4ac5-a8f8-cbcbac4c7071"
      },
      "execution_count": 109,
      "outputs": [
        {
          "output_type": "execute_result",
          "data": {
            "text/plain": [
              "array([[0.30596372, 0.28369085, 0.30204278, ..., 0.00105932, 0.42712599,\n",
              "        0.        ],\n",
              "       [0.28842555, 0.26900927, 0.2817895 , ..., 0.00105932, 0.41762742,\n",
              "        0.        ],\n",
              "       [0.2812006 , 0.25839058, 0.27260438, ..., 0.00105932, 0.24410641,\n",
              "        0.        ],\n",
              "       ...,\n",
              "       [0.17622654, 0.15982672, 0.17645283, ..., 0.00105932, 0.11714905,\n",
              "        0.        ],\n",
              "       [0.15276475, 0.15292188, 0.16652036, ..., 0.00105932, 0.38224868,\n",
              "        0.        ],\n",
              "       [0.19080967, 0.19537516, 0.18643239, ..., 0.00105932, 0.36597033,\n",
              "        0.        ]])"
            ]
          },
          "metadata": {},
          "execution_count": 109
        }
      ]
    },
    {
      "cell_type": "code",
      "source": [
        "xx=x_test[win_length:, 1:].reshape((x_test.shape[0] - win_length, -1))"
      ],
      "metadata": {
        "id": "KZweozbDmU2G"
      },
      "execution_count": 125,
      "outputs": []
    },
    {
      "cell_type": "code",
      "source": [
        "xx.shape"
      ],
      "metadata": {
        "colab": {
          "base_uri": "https://localhost:8080/"
        },
        "id": "J4rhe_K0zBxD",
        "outputId": "73c09c25-1641-4071-dc60-c0d3ae29c386"
      },
      "execution_count": 126,
      "outputs": [
        {
          "output_type": "execute_result",
          "data": {
            "text/plain": [
              "(1037, 9)"
            ]
          },
          "metadata": {},
          "execution_count": 126
        }
      ]
    },
    {
      "cell_type": "code",
      "source": [
        "df_pred=pd.concat([pd.DataFrame(prediction),pd.DataFrame(xx)],axis=1)"
      ],
      "metadata": {
        "colab": {
          "base_uri": "https://localhost:8080/",
          "height": 287
        },
        "id": "n9-DMfP6mUN9",
        "outputId": "1a9e7d43-833a-4b2c-d8f2-ba2357bb09f6"
      },
      "execution_count": 128,
      "outputs": [
        {
          "output_type": "error",
          "ename": "ValueError",
          "evalue": "Must pass 2-d input. shape=(1037, 100, 1)",
          "traceback": [
            "\u001b[0;31m---------------------------------------------------------------------------\u001b[0m",
            "\u001b[0;31mValueError\u001b[0m                                Traceback (most recent call last)",
            "\u001b[0;32m<ipython-input-128-5118d68088d7>\u001b[0m in \u001b[0;36m<cell line: 1>\u001b[0;34m()\u001b[0m\n\u001b[0;32m----> 1\u001b[0;31m \u001b[0mdf_pred\u001b[0m\u001b[0;34m=\u001b[0m\u001b[0mpd\u001b[0m\u001b[0;34m.\u001b[0m\u001b[0mconcat\u001b[0m\u001b[0;34m(\u001b[0m\u001b[0mpd\u001b[0m\u001b[0;34m.\u001b[0m\u001b[0mDataFrame\u001b[0m\u001b[0;34m(\u001b[0m\u001b[0mprediction\u001b[0m\u001b[0;34m)\u001b[0m\u001b[0;34m,\u001b[0m\u001b[0mpd\u001b[0m\u001b[0;34m.\u001b[0m\u001b[0mDataFrame\u001b[0m\u001b[0;34m(\u001b[0m\u001b[0mxx\u001b[0m\u001b[0;34m)\u001b[0m\u001b[0;34m,\u001b[0m\u001b[0maxis\u001b[0m\u001b[0;34m=\u001b[0m\u001b[0;36m1\u001b[0m\u001b[0;34m)\u001b[0m\u001b[0;34m\u001b[0m\u001b[0;34m\u001b[0m\u001b[0m\n\u001b[0m",
            "\u001b[0;32m/usr/local/lib/python3.10/dist-packages/pandas/core/frame.py\u001b[0m in \u001b[0;36m__init__\u001b[0;34m(self, data, index, columns, dtype, copy)\u001b[0m\n\u001b[1;32m    780\u001b[0m                 )\n\u001b[1;32m    781\u001b[0m             \u001b[0;32melse\u001b[0m\u001b[0;34m:\u001b[0m\u001b[0;34m\u001b[0m\u001b[0;34m\u001b[0m\u001b[0m\n\u001b[0;32m--> 782\u001b[0;31m                 mgr = ndarray_to_mgr(\n\u001b[0m\u001b[1;32m    783\u001b[0m                     \u001b[0mdata\u001b[0m\u001b[0;34m,\u001b[0m\u001b[0;34m\u001b[0m\u001b[0;34m\u001b[0m\u001b[0m\n\u001b[1;32m    784\u001b[0m                     \u001b[0mindex\u001b[0m\u001b[0;34m,\u001b[0m\u001b[0;34m\u001b[0m\u001b[0;34m\u001b[0m\u001b[0m\n",
            "\u001b[0;32m/usr/local/lib/python3.10/dist-packages/pandas/core/internals/construction.py\u001b[0m in \u001b[0;36mndarray_to_mgr\u001b[0;34m(values, index, columns, dtype, copy, typ)\u001b[0m\n\u001b[1;32m    312\u001b[0m         )\n\u001b[1;32m    313\u001b[0m         \u001b[0mvalues\u001b[0m \u001b[0;34m=\u001b[0m \u001b[0mnp\u001b[0m\u001b[0;34m.\u001b[0m\u001b[0marray\u001b[0m\u001b[0;34m(\u001b[0m\u001b[0mvalues\u001b[0m\u001b[0;34m,\u001b[0m \u001b[0mcopy\u001b[0m\u001b[0;34m=\u001b[0m\u001b[0m_copy\u001b[0m\u001b[0;34m)\u001b[0m\u001b[0;34m\u001b[0m\u001b[0;34m\u001b[0m\u001b[0m\n\u001b[0;32m--> 314\u001b[0;31m         \u001b[0mvalues\u001b[0m \u001b[0;34m=\u001b[0m \u001b[0m_ensure_2d\u001b[0m\u001b[0;34m(\u001b[0m\u001b[0mvalues\u001b[0m\u001b[0;34m)\u001b[0m\u001b[0;34m\u001b[0m\u001b[0;34m\u001b[0m\u001b[0m\n\u001b[0m\u001b[1;32m    315\u001b[0m \u001b[0;34m\u001b[0m\u001b[0m\n\u001b[1;32m    316\u001b[0m     \u001b[0;32melse\u001b[0m\u001b[0;34m:\u001b[0m\u001b[0;34m\u001b[0m\u001b[0;34m\u001b[0m\u001b[0m\n",
            "\u001b[0;32m/usr/local/lib/python3.10/dist-packages/pandas/core/internals/construction.py\u001b[0m in \u001b[0;36m_ensure_2d\u001b[0;34m(values)\u001b[0m\n\u001b[1;32m    590\u001b[0m         \u001b[0mvalues\u001b[0m \u001b[0;34m=\u001b[0m \u001b[0mvalues\u001b[0m\u001b[0;34m.\u001b[0m\u001b[0mreshape\u001b[0m\u001b[0;34m(\u001b[0m\u001b[0;34m(\u001b[0m\u001b[0mvalues\u001b[0m\u001b[0;34m.\u001b[0m\u001b[0mshape\u001b[0m\u001b[0;34m[\u001b[0m\u001b[0;36m0\u001b[0m\u001b[0;34m]\u001b[0m\u001b[0;34m,\u001b[0m \u001b[0;36m1\u001b[0m\u001b[0;34m)\u001b[0m\u001b[0;34m)\u001b[0m\u001b[0;34m\u001b[0m\u001b[0;34m\u001b[0m\u001b[0m\n\u001b[1;32m    591\u001b[0m     \u001b[0;32melif\u001b[0m \u001b[0mvalues\u001b[0m\u001b[0;34m.\u001b[0m\u001b[0mndim\u001b[0m \u001b[0;34m!=\u001b[0m \u001b[0;36m2\u001b[0m\u001b[0;34m:\u001b[0m\u001b[0;34m\u001b[0m\u001b[0;34m\u001b[0m\u001b[0m\n\u001b[0;32m--> 592\u001b[0;31m         \u001b[0;32mraise\u001b[0m \u001b[0mValueError\u001b[0m\u001b[0;34m(\u001b[0m\u001b[0;34mf\"Must pass 2-d input. shape={values.shape}\"\u001b[0m\u001b[0;34m)\u001b[0m\u001b[0;34m\u001b[0m\u001b[0;34m\u001b[0m\u001b[0m\n\u001b[0m\u001b[1;32m    593\u001b[0m     \u001b[0;32mreturn\u001b[0m \u001b[0mvalues\u001b[0m\u001b[0;34m\u001b[0m\u001b[0;34m\u001b[0m\u001b[0m\n\u001b[1;32m    594\u001b[0m \u001b[0;34m\u001b[0m\u001b[0m\n",
            "\u001b[0;31mValueError\u001b[0m: Must pass 2-d input. shape=(1037, 100, 1)"
          ]
        }
      ]
    },
    {
      "cell_type": "code",
      "source": [
        "rev_trans=scaler.inverse_transform(df_pred)"
      ],
      "metadata": {
        "id": "vR-7_3NAmURe"
      },
      "execution_count": null,
      "outputs": []
    },
    {
      "cell_type": "code",
      "source": [
        "rev_trans"
      ],
      "metadata": {
        "id": "qQ2ggN-voDDs"
      },
      "execution_count": null,
      "outputs": []
    },
    {
      "cell_type": "code",
      "source": [
        "df_final=df_input[prediction.shape[0]*-1:]"
      ],
      "metadata": {
        "id": "gJcYioISoDBZ"
      },
      "execution_count": null,
      "outputs": []
    },
    {
      "cell_type": "code",
      "source": [
        "df_final.count()"
      ],
      "metadata": {
        "id": "7mnhaJl7oC-a"
      },
      "execution_count": null,
      "outputs": []
    },
    {
      "cell_type": "code",
      "source": [
        "df_final['App_pred']=reve_trans[:,0]"
      ],
      "metadata": {
        "id": "5yPyrKXPoC7S"
      },
      "execution_count": null,
      "outputs": []
    },
    {
      "cell_type": "code",
      "source": [
        "df.final()"
      ],
      "metadata": {
        "id": "cDjKFVwto55K"
      },
      "execution_count": null,
      "outputs": []
    },
    {
      "cell_type": "code",
      "source": [
        "data1.head()"
      ],
      "metadata": {
        "id": "ejpFg2v1bSTk"
      },
      "execution_count": null,
      "outputs": []
    },
    {
      "cell_type": "code",
      "source": [],
      "metadata": {
        "id": "vCWOkyxLbSQh"
      },
      "execution_count": null,
      "outputs": []
    },
    {
      "cell_type": "code",
      "source": [],
      "metadata": {
        "id": "LhGSenH5bSNi"
      },
      "execution_count": null,
      "outputs": []
    },
    {
      "cell_type": "code",
      "source": [],
      "metadata": {
        "id": "CGRpKv_YbSKa"
      },
      "execution_count": null,
      "outputs": []
    },
    {
      "cell_type": "code",
      "source": [],
      "metadata": {
        "id": "FF6D5WArbSHy"
      },
      "execution_count": null,
      "outputs": []
    },
    {
      "cell_type": "code",
      "source": [],
      "metadata": {
        "id": "4nBrgfEhbSE7"
      },
      "execution_count": null,
      "outputs": []
    },
    {
      "cell_type": "code",
      "source": [],
      "metadata": {
        "id": "D4DtphdobSCu"
      },
      "execution_count": null,
      "outputs": []
    },
    {
      "cell_type": "code",
      "source": [],
      "metadata": {
        "id": "e4eLL1OwbR_k"
      },
      "execution_count": null,
      "outputs": []
    },
    {
      "cell_type": "code",
      "source": [],
      "metadata": {
        "id": "5QT8qiINbR8y"
      },
      "execution_count": null,
      "outputs": []
    },
    {
      "cell_type": "code",
      "source": [
        "nd_data= data1['nd'].values.reshape(-1,1)\n",
        "tsd_data=data1['tsd'].values.reshape(-1,1)\n",
        "ewd_data=data1['england_wales_demand'].values.reshape(-1,1)\n",
        "wind_data=data1['embedded_wind_generation'].values.reshape(-1,1)\n",
        "solar_data=data1['embedded_solar_generation'].values.reshape(-1,1)\n",
        "windC_data=data1['embedded_wind_capacity'].values.reshape(-1,1)\n",
        "solarC_data=data1['embedded_solar_capacity'].values.reshape(-1,1)\n",
        "stor_data=data1['non_bm_stor'].values.reshape(-1,1)\n",
        "pump_data=data1['pump_storage_pumping'].values.reshape(-1,1)\n",
        "#hol_data=data1['is_holiday'].values.reshape(-1,1)\n",
        "print(nd_data.shape,tsd_data.shape,ewd_data.shape,wind_data.shape,solar_data.shape,windC_data.shape,solarC_data.shape,stor_data.shape\n",
        "      ,pump_data.shape)"
      ],
      "metadata": {
        "id": "We96JVoz1Hbt"
      },
      "execution_count": null,
      "outputs": []
    },
    {
      "cell_type": "code",
      "source": [
        "from sklearn.preprocessing import MinMaxScaler\n",
        "nd_sca=MinMaxScaler()\n",
        "tsd_sca=MinMaxScaler()\n",
        "ewd_sca=MinMaxScaler()\n",
        "wind_sca=MinMaxScaler()\n",
        "solar_sca=MinMaxScaler()\n",
        "windC_sca=MinMaxScaler()\n",
        "solarC_sca=MinMaxScaler()\n",
        "stor_sca=MinMaxScaler()\n",
        "pump_sca=MinMaxScaler()\n",
        "\n",
        "nd_scaler_ = nd_sca.fit_transform(nd_data)\n",
        "tsd_scaler_ = tsd_sca.fit_transform(tsd_data)\n",
        "ewd_scaler_ = ewd_sca.fit_transform(ewd_data)\n",
        "wind_scaler_ = wind_sca.fit_transform(wind_data)\n",
        "solar_scaler_ = solar_sca.fit_transform(solar_data)\n",
        "windC_scaler_ = windC_sca.fit_transform(windC_data)\n",
        "solarC_scaler_ = solarC_sca.fit_transform(solarC_data)\n",
        "stor_scaler_ = stor_sca.fit_transform(stor_data)\n",
        "pump_scaler_ = pump_sca.fit_transform(pump_data)"
      ],
      "metadata": {
        "id": "mfeOJxFp1Rbg"
      },
      "execution_count": null,
      "outputs": []
    },
    {
      "cell_type": "code",
      "source": [
        "def dataset(data,time_steps):\n",
        "    x,y=[],[]\n",
        "    for i in range(len(data)-time_steps):\n",
        "        x.append(data[i:i+time_steps])\n",
        "        y.append(data[i+time_steps])\n",
        "    return np.array(x),np.array(y)\n",
        "\n",
        "time_steps=12"
      ],
      "metadata": {
        "id": "BMSN24wy9xw5"
      },
      "execution_count": null,
      "outputs": []
    },
    {
      "cell_type": "markdown",
      "source": [
        "function to create time series data for a machine learning model"
      ],
      "metadata": {
        "id": "5HkUocdFFsPV"
      }
    },
    {
      "cell_type": "code",
      "source": [
        "from re import X\n",
        "x_nd,y_nd=dataset(nd_scaler_ ,time_steps)\n",
        "x_tsd,y_tsd=dataset(tsd_scaler_,time_steps)\n",
        "x_ewd,y_ewd=dataset(ewd_scaler_,time_steps)\n",
        "x_wnd,y_wnd=dataset(wind_scaler_,time_steps)\n",
        "x_solar,y_solar=dataset(solar_scaler_,time_steps)\n",
        "x_windC,y_windC=dataset(windC_scaler_,time_steps)\n",
        "x_solarC,y_solarC=dataset(solarC_scaler_,time_steps)\n",
        "x_stor,y_stor=dataset(stor_scaler_,time_steps)\n",
        "x_pump,y_pump=dataset(pump_scaler_,time_steps)\n",
        "\n",
        "x_ewd.shape,y_ewd.shape"
      ],
      "metadata": {
        "id": "PLRbBaowFzN2"
      },
      "execution_count": null,
      "outputs": []
    },
    {
      "cell_type": "markdown",
      "source": [
        "Train Test Split"
      ],
      "metadata": {
        "id": "RrhOW1unI1N2"
      }
    },
    {
      "cell_type": "code",
      "source": [
        "xtrain_nd,xtest_nd,ytrain_nd,ytest_nd=tts(x_nd,y_nd,test_size=0.2,shuffle=False)\n",
        "xtrain_tsd,xtest_tsd,ytrain_tsd,ytest_tsd=tts(x_tsd,y_tsd,test_size=0.2,shuffle=False)\n",
        "xtrain_ewd,xtest_ewd,ytrain_ewd,ytest_ewd=tts(x_ewd,y_ewd,test_size=0.2,shuffle=False,)\n",
        "xtrain_wnd,xtest_wnd,ytrain_wnd,ytest_wnd=tts(x_wnd,y_wnd,test_size=0.2,shuffle=False)\n",
        "xtrain_solar,xtest_solar,ytrain_solar,ytest_solar=tts(x_solar,y_solar,test_size=0.2,shuffle=False)\n",
        "x_train_windC,x_test_windC,y_train_windC,y_test_windC=tts(x_windC,y_windC,test_size=0.2,shuffle=False)\n",
        "x_train_solarC,x_test_solarC,y_train_solarC,y_test_solarC=tts(x_solarC,y_solarC,test_size=0.2,shuffle=False)\n",
        "x_train_stor,x_test_stor,y_train_stor,y_test_stor=tts(x_stor,y_stor,test_size=0.2,shuffle=False)\n",
        "x_train_pump,x_test_pump,y_train_pump,y_test_pump=tts(x_pump,y_pump,test_size=0.2,shuffle=False)"
      ],
      "metadata": {
        "id": "z8rIzOHPGzfV"
      },
      "execution_count": null,
      "outputs": []
    },
    {
      "cell_type": "code",
      "source": [
        "xtrain_nd.shape"
      ],
      "metadata": {
        "id": "4ccZo9zwG00c"
      },
      "execution_count": null,
      "outputs": []
    },
    {
      "cell_type": "code",
      "source": [
        "data1.columns"
      ],
      "metadata": {
        "id": "rzUdbpNoJ9_X"
      },
      "execution_count": null,
      "outputs": []
    },
    {
      "cell_type": "code",
      "source": [],
      "metadata": {
        "id": "57CrMPmbXroR"
      },
      "execution_count": null,
      "outputs": []
    },
    {
      "cell_type": "code",
      "source": [
        "X_train=np.concatenate((xtrain_nd,xtrain_tsd,xtrain_ewd,xtrain_wnd,xtrain_solar,x_train_windC,x_train_solarC,x_train_stor,x_train_pump),axis=2)\n",
        "y_train=np.concatenate((ytest_nd,ytest_tsd,ytest_ewd),axis=1)\n",
        "X_test=np.concatenate((xtrain_nd,xtrain_tsd,xtrain_ewd,xtrain_wnd,xtrain_solar,x_train_windC,x_train_solarC,x_train_stor,x_train_pump),axis=2)\n",
        "y_test=np.concatenate((ytest_nd,ytest_tsd,ytest_ewd),axis=1)"
      ],
      "metadata": {
        "id": "3Bkgs946K8ew"
      },
      "execution_count": null,
      "outputs": []
    },
    {
      "cell_type": "code",
      "source": [
        "model=Sequential()\n",
        "model.add(LSTM(units=128,return_sequences=True,input_shape=(X_train.shape[1],X_train.shape[2])))\n",
        "model.add(LSTM(units=64,return_sequences=True,activation='relu'))\n",
        "model.add(LSTM(units=32,return_sequences=True,activation='relu'))\n",
        "model.add(LSTM(units=16,return_sequences=True,activation='relu'))\n",
        "model.add(LSTM(units=8,return_sequences=True,activation='relu'))\n",
        "model.add(Dense(128,activation='relu'))\n",
        "model.add(Dense(100,activation='relu'))\n",
        "model.add(Dense(64,activation='relu'))\n",
        "model.add(Dense(54,activation='relu'))\n",
        "model.add(Dense(28,activation='relu'))\n",
        "model.add(Dense(12,activation='relu'))\n",
        "model.add(Dense(6,activation='relu'))\n",
        "model.add(Dense(units=3,activation='linear'))\n"
      ],
      "metadata": {
        "id": "EGe5P4P3Naqv"
      },
      "execution_count": null,
      "outputs": []
    },
    {
      "cell_type": "code",
      "source": [
        "model.summary()"
      ],
      "metadata": {
        "id": "-acV0X2WQW4S"
      },
      "execution_count": null,
      "outputs": []
    },
    {
      "cell_type": "code",
      "source": [
        "model.compile(loss='mean_squared_error',optimizer='adam',metrics=['accuracy'])"
      ],
      "metadata": {
        "id": "Un8W5vI-SpBK"
      },
      "execution_count": null,
      "outputs": []
    },
    {
      "cell_type": "code",
      "source": [],
      "metadata": {
        "id": "RhRqXPCtSFUm"
      },
      "execution_count": null,
      "outputs": []
    },
    {
      "cell_type": "code",
      "source": [],
      "metadata": {
        "id": "UU_gByERTfxP"
      },
      "execution_count": null,
      "outputs": []
    }
  ]
}