{
 "cells": [
  {
   "cell_type": "markdown",
   "id": "260a3ffc",
   "metadata": {},
   "source": [
    "# Extract multiword token"
   ]
  },
  {
   "cell_type": "code",
   "execution_count": 45,
   "id": "b70ef238",
   "metadata": {},
   "outputs": [],
   "source": [
    "import re "
   ]
  },
  {
   "cell_type": "code",
   "execution_count": 46,
   "id": "3c8859dc",
   "metadata": {},
   "outputs": [],
   "source": [
    "text=\"Paul Newman was an American actor, but Paul Hollywood is a British TV Host. The name Paul is quite common.\""
   ]
  },
  {
   "cell_type": "code",
   "execution_count": 47,
   "id": "09ceab7b",
   "metadata": {},
   "outputs": [],
   "source": [
    "pattern=r\"Paul [A-Z]\\w+\"\n",
    "# it means  find patter for any instance of paul proceeded by a capital letter until actual word break"
   ]
  },
  {
   "cell_type": "code",
   "execution_count": 48,
   "id": "8f34c4ce",
   "metadata": {},
   "outputs": [],
   "source": [
    "matches=re.finditer(pattern,text)"
   ]
  },
  {
   "cell_type": "code",
   "execution_count": 49,
   "id": "e1ec494d",
   "metadata": {},
   "outputs": [
    {
     "name": "stdout",
     "output_type": "stream",
     "text": [
      "<re.Match object; span=(0, 11), match='Paul Newman'>\n",
      "<re.Match object; span=(39, 53), match='Paul Hollywood'>\n"
     ]
    }
   ],
   "source": [
    "for match in matches:\n",
    "    print(match)"
   ]
  },
  {
   "cell_type": "markdown",
   "id": "a82493e2",
   "metadata": {},
   "source": [
    "# Reconstructing the spans"
   ]
  },
  {
   "cell_type": "code",
   "execution_count": 50,
   "id": "7f1821ef",
   "metadata": {},
   "outputs": [],
   "source": [
    "import spacy\n",
    "from spacy.tokens import Span"
   ]
  },
  {
   "cell_type": "code",
   "execution_count": 51,
   "id": "b0e70393",
   "metadata": {},
   "outputs": [
    {
     "name": "stdout",
     "output_type": "stream",
     "text": [
      "[]\n"
     ]
    }
   ],
   "source": [
    "nlp=spacy.blank('en')\n",
    "doc=nlp(text)\n",
    "orginal_ents=list(doc.ents)\n",
    "print(orginal_ents) "
   ]
  },
  {
   "cell_type": "code",
   "execution_count": 52,
   "id": "b409bc90",
   "metadata": {},
   "outputs": [],
   "source": [
    "# here is empty list because  we have created a blank spaCy English model  we can see we will add to it"
   ]
  },
  {
   "cell_type": "code",
   "execution_count": 53,
   "id": "d6826849",
   "metadata": {},
   "outputs": [
    {
     "name": "stdout",
     "output_type": "stream",
     "text": [
      "Paul Newman PERSON\n",
      "Paul Hollywood PERSON\n"
     ]
    }
   ],
   "source": [
    "nlp=spacy.blank('en')\n",
    "doc=nlp(text)\n",
    "orginal_ents=list(doc.ents)\n",
    "mwt_ents=[]\n",
    "for match in re.finditer(pattern,doc.text):  # iterate over the results from re.finditer\n",
    "    start,end=match.span()\n",
    "    span=doc.char_span(start,end)\n",
    "    if span is not None:\n",
    "        mwt_ents.append((span.start,span.end,span.text))\n",
    "        \n",
    "# Inject the spans into the doc.ents\n",
    "for ent in mwt_ents:\n",
    "    start,end,name=ent\n",
    "    per_ent= Span(doc,start,end,label=\"PERSON\")\n",
    "    orginal_ents.append(per_ent)\n",
    "\n",
    "doc.ents=orginal_ents\n",
    "for ent in doc.ents:\n",
    "    print(ent.text,ent.label_)"
   ]
  },
  {
   "cell_type": "markdown",
   "id": "c976665f",
   "metadata": {},
   "source": [
    "# Giving priority to longer spans"
   ]
  },
  {
   "cell_type": "markdown",
   "id": "ef9bee5e",
   "metadata": {},
   "source": [
    "lets create a new entity Maybe words associated with Cinema. So, we want to classify \n",
    "Hollywood as a tag “CINEMA”.\n",
    "Now, in the above text, Hollywood is clearly associated with Paul Hollywood, but\n",
    "let’s imagine for a moment that it is not. Let’s try and run the same code as above. \n",
    "If we do, we notice that we get an error."
   ]
  },
  {
   "cell_type": "code",
   "execution_count": 54,
   "id": "24329da6",
   "metadata": {},
   "outputs": [
    {
     "ename": "ValueError",
     "evalue": "[E1010] Unable to set entity information for token 0 which is included in more than one span in entities, blocked, missing or outside.",
     "output_type": "error",
     "traceback": [
      "\u001b[1;31m---------------------------------------------------------------------------\u001b[0m",
      "\u001b[1;31mValueError\u001b[0m                                Traceback (most recent call last)",
      "\u001b[1;32m~\\AppData\\Local\\Temp\\ipykernel_18628\\2346983199.py\u001b[0m in \u001b[0;36m<module>\u001b[1;34m\u001b[0m\n\u001b[0;32m     12\u001b[0m     \u001b[0morginal_ents\u001b[0m\u001b[1;33m.\u001b[0m\u001b[0mappend\u001b[0m\u001b[1;33m(\u001b[0m\u001b[0mper_ent\u001b[0m\u001b[1;33m)\u001b[0m\u001b[1;33m\u001b[0m\u001b[1;33m\u001b[0m\u001b[0m\n\u001b[0;32m     13\u001b[0m \u001b[1;33m\u001b[0m\u001b[0m\n\u001b[1;32m---> 14\u001b[1;33m \u001b[0mdoc\u001b[0m\u001b[1;33m.\u001b[0m\u001b[0ments\u001b[0m\u001b[1;33m=\u001b[0m\u001b[0morginal_ents\u001b[0m\u001b[1;33m\u001b[0m\u001b[1;33m\u001b[0m\u001b[0m\n\u001b[0m\u001b[0;32m     15\u001b[0m \u001b[1;32mfor\u001b[0m \u001b[0ment\u001b[0m \u001b[1;32min\u001b[0m \u001b[0mdoc\u001b[0m\u001b[1;33m.\u001b[0m\u001b[0ments\u001b[0m\u001b[1;33m:\u001b[0m\u001b[1;33m\u001b[0m\u001b[1;33m\u001b[0m\u001b[0m\n\u001b[0;32m     16\u001b[0m     \u001b[0mprint\u001b[0m\u001b[1;33m(\u001b[0m\u001b[0ment\u001b[0m\u001b[1;33m.\u001b[0m\u001b[0mtext\u001b[0m\u001b[1;33m,\u001b[0m\u001b[0ment\u001b[0m\u001b[1;33m.\u001b[0m\u001b[0mlabel_\u001b[0m\u001b[1;33m)\u001b[0m\u001b[1;33m\u001b[0m\u001b[1;33m\u001b[0m\u001b[0m\n",
      "\u001b[1;32m~\\anaconda3\\lib\\site-packages\\spacy\\tokens\\doc.pyx\u001b[0m in \u001b[0;36mspacy.tokens.doc.Doc.ents.__set__\u001b[1;34m()\u001b[0m\n",
      "\u001b[1;32m~\\anaconda3\\lib\\site-packages\\spacy\\tokens\\doc.pyx\u001b[0m in \u001b[0;36mspacy.tokens.doc.Doc.set_ents\u001b[1;34m()\u001b[0m\n",
      "\u001b[1;31mValueError\u001b[0m: [E1010] Unable to set entity information for token 0 which is included in more than one span in entities, blocked, missing or outside."
     ]
    }
   ],
   "source": [
    "mwt_ents=[]\n",
    "for match in re.finditer(pattern,doc.text):  # iterate over the results from re.finditer\n",
    "    start,end=match.span()\n",
    "    span=doc.char_span(start,end)\n",
    "    if span is not None:\n",
    "        mwt_ents.append((span.start,span.end,span.text))\n",
    "        \n",
    "# Inject the spans into the doc.ents\n",
    "for ent in mwt_ents:\n",
    "    start,end,name=ent\n",
    "    per_ent= Span(doc,start,end,label=\"CINEMA\")\n",
    "    orginal_ents.append(per_ent)\n",
    "\n",
    "doc.ents=orginal_ents\n",
    "for ent in doc.ents:\n",
    "    print(ent.text,ent.label_)"
   ]
  },
  {
   "cell_type": "markdown",
   "id": "bc214850",
   "metadata": {},
   "source": [
    "It is beacause the word overlaps onece in person and another in cinema .therefore we have to give priority to longer span"
   ]
  },
  {
   "cell_type": "code",
   "execution_count": 59,
   "id": "af51ed6b",
   "metadata": {},
   "outputs": [],
   "source": [
    "# using custom components\n",
    "from spacy.language import Language\n",
    "from spacy.util import filter_spans # for giving priority to longer spans\n",
    "@Language.component(\"cinema_ner\")\n",
    "def cinema_ner(doc):\n",
    "    pattern=r\"Hollywood\"\n",
    "    orginal_ents=list(doc.ents)\n",
    "    mwt_ents=[]\n",
    "    for match in re.finditer(pattern,doc.text):  # iterate over the results from re.finditer\n",
    "        start,end=match.span()\n",
    "        span=doc.char_span(start,end)\n",
    "        if span is not None:\n",
    "            mwt_ents.append((span.start,span.end,span.text))\n",
    "\n",
    "    # Inject the spans into the doc.ents\n",
    "    for ent in mwt_ents:\n",
    "        start,end,name=ent\n",
    "        per_ent= Span(doc,start,end,label=\"PERSON\")\n",
    "        orginal_ents.append(per_ent)\n",
    "        \n",
    "    filtered=filter_spans(orginal_ents)\n",
    "    doc.ents=filtered\n",
    "    return(doc)"
   ]
  },
  {
   "cell_type": "code",
   "execution_count": 60,
   "id": "6d456a62",
   "metadata": {},
   "outputs": [
    {
     "data": {
      "text/plain": [
       "<function __main__.cinema_ner(doc)>"
      ]
     },
     "execution_count": 60,
     "metadata": {},
     "output_type": "execute_result"
    }
   ],
   "source": [
    "nlp2=spacy.load(\"en_core_web_sm\")\n",
    "nlp2.add_pipe(\"cinema_ner\")"
   ]
  },
  {
   "cell_type": "code",
   "execution_count": 61,
   "id": "083792b1",
   "metadata": {},
   "outputs": [
    {
     "name": "stdout",
     "output_type": "stream",
     "text": [
      "Paul Newman PERSON\n",
      "American NORP\n",
      "Paul Hollywood PERSON\n",
      "British NORP\n",
      "Paul PERSON\n"
     ]
    }
   ],
   "source": [
    "doc2=nlp2(text)\n",
    "for ent in doc2.ents:\n",
    "    print(ent.text,ent.label_)"
   ]
  },
  {
   "cell_type": "code",
   "execution_count": null,
   "id": "b1b427ba",
   "metadata": {},
   "outputs": [],
   "source": []
  }
 ],
 "metadata": {
  "kernelspec": {
   "display_name": "Python 3 (ipykernel)",
   "language": "python",
   "name": "python3"
  },
  "language_info": {
   "codemirror_mode": {
    "name": "ipython",
    "version": 3
   },
   "file_extension": ".py",
   "mimetype": "text/x-python",
   "name": "python",
   "nbconvert_exporter": "python",
   "pygments_lexer": "ipython3",
   "version": "3.9.13"
  }
 },
 "nbformat": 4,
 "nbformat_minor": 5
}
